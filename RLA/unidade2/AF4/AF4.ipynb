{
  "nbformat": 4,
  "nbformat_minor": 0,
  "metadata": {
    "colab": {
      "provenance": [],
      "toc_visible": true
    },
    "kernelspec": {
      "name": "python3",
      "display_name": "Python 3"
    },
    "language_info": {
      "name": "python"
    }
  },
  "cells": [
    {
      "cell_type": "markdown",
      "source": [
        "<img src=\"https://drive.google.com/uc?id=1SOzRTjUt7cuBJpSqoK90fcAiKBrnpUJo\" width=\"400\">\n",
        "\n",
        "**Data:** preencha com a data de envio <br>\n",
        "**Aluno(a):** preencha com seus dados <br>\n",
        "**Matrícula:** preencha com seus dados <br>"
      ],
      "metadata": {
        "id": "02Dckeirosf4"
      }
    },
    {
      "cell_type": "markdown",
      "source": [
        "# Avaliação Formativa 4"
      ],
      "metadata": {
        "id": "hRuWQ6-9spAd"
      }
    },
    {
      "cell_type": "markdown",
      "source": [
        "## Normas e exigências\n",
        "- **Data de entrega**: 02/05/2024\n",
        "- **Pontuação total**: 04 pontos"
      ],
      "metadata": {
        "id": "wr6cLXl2rbiR"
      }
    },
    {
      "cell_type": "markdown",
      "source": [
        "## Observações\n",
        "\n",
        "- É considerada uma questão válida àquela que, **limitada aos conhecimentos aprendidos em sala de aula**, resultar em saída de dados correta para toda e qualquer instância do problema.\n",
        "- É obrigatório o uso de anotações do tipo do dado e documentação. Ou seja:\n",
        "        def func1(param: tipo, ...):\n",
        "            \"\"\"\n",
        "            Documentação ...\n",
        "            \"\"\"\n",
        "            var: tipo = valor\n",
        "            ...\n",
        "            return var\n",
        "- Todas as questões devem seguir a **modularização de algortimos** quando possível. Ou seja, o uso de uma ou mais função secundárias, uma função principal chamada `main()` e trecho de verificação se o script está sendo executado como o programa principal.\n",
        "\n",
        "        def func1(param: tipo, ...):\n",
        "            ...        \n",
        "            def func2(param: tipo, ...):\n",
        "            ...\n",
        "\n",
        "        def main() -> None:\n",
        "            param = valor\n",
        "            func1(param, ...)\n",
        "\n",
        "        if __name__ == \"__main__\":\n",
        "            main()"
      ],
      "metadata": {
        "id": "5tdmhcu-uFfP"
      }
    },
    {
      "cell_type": "markdown",
      "source": [
        "## Questão 1 - Troca dos valores de duas variáveis\n",
        "\n",
        "Dadas duas variáveis, $a$ e $b$, implemente e teste um algoritmo para trocar os valores atribuídos a elas."
      ],
      "metadata": {
        "id": "t8Twlj5KpIRQ"
      }
    },
    {
      "cell_type": "markdown",
      "source": [
        "### Descrição geral do algoritmo\n",
        "\n",
        "1. Guardar o valor original da variável $a$ em uma variável auxiliar $aux$;\n",
        "2. Atribuir à variável $a$ o valor original da variável $b$;\n",
        "3. Atribuir à variável $b$ o valor original da variável $a$, que está armazenado na variável auxiliar $aux$.\n",
        "4. Exibir os novos valores de $a$ e $b$."
      ],
      "metadata": {
        "id": "L_W00BZYhhS4"
      }
    },
    {
      "cell_type": "markdown",
      "source": [
        "### Implementação em Python"
      ],
      "metadata": {
        "id": "yY3w23Depv_Q"
      }
    },
    {
      "cell_type": "code",
      "execution_count": null,
      "metadata": {
        "id": "wcx1XRMcooxN",
        "colab": {
          "base_uri": "https://localhost:8080/"
        },
        "outputId": "15084771-7d70-4108-de70-207736385b44"
      },
      "outputs": [
        {
          "output_type": "stream",
          "name": "stdout",
          "text": [
            "a = 4\n",
            "b = -2\n"
          ]
        }
      ],
      "source": [
        "def troca_valores(a:float, b: float) -> None:\n",
        "    \"\"\"\n",
        "    Troca os valores atribuídos aos parâmetros a e b.\n",
        "    \"\"\"\n",
        "    aux: float = a\n",
        "    a = b\n",
        "    b = aux\n",
        "\n",
        "    print(\"a =\", a)\n",
        "    print(\"b =\", b)\n",
        "\n",
        "def main() -> None:\n",
        "    a = -2\n",
        "    b = 4\n",
        "    troca_valores(a,b)\n",
        "\n",
        "if __name__ == \"__main__\":\n",
        "    main()"
      ]
    },
    {
      "cell_type": "markdown",
      "source": [
        "## Questão 2 - Contagem\n",
        "\n",
        "Dado um conjunto $n$ de notas de alunos em um exame, implemente e teste um algoritmo para fazer uma contagem $cont$ do número de alunos que foram aprovados no exame.\n",
        "Será considerado aprovado o aluno que tirar $nota$ 50 ou maior (no intervalo de 0 a 100)."
      ],
      "metadata": {
        "id": "JrvUbf2rp2ib"
      }
    },
    {
      "cell_type": "markdown",
      "source": [
        "### Descrição geral do algoritmo versão 01\n",
        "\n",
        "1. Obter o número de notas $n$ a serem processadas;\n",
        "2. Inicializar a contagem $cont$ com zero;\n",
        "3. Enquanto houver notas a serem processadas, fazer repetidamente:\n",
        "    - obter a próxima nota;\n",
        "    - se a nota for suficiente para passar no exame ($n ≥ 50$) então adicionar 1 (um) à contagem $cont$;\n",
        "4. Exibir a contagem $cont$ (número total de aprovações)."
      ],
      "metadata": {
        "id": "DuQuSc0Zhql-"
      }
    },
    {
      "cell_type": "markdown",
      "source": [
        "### Implementação em Python versão 01"
      ],
      "metadata": {
        "id": "F3cW-iBjqOwq"
      }
    },
    {
      "cell_type": "code",
      "source": [
        "def conta_aprovacoes(n: int) -> None:\n",
        "    \"\"\"\n",
        "    Conta o número de alunos aprovados.\n",
        "    \"\"\"\n",
        "    cont: int = 0\n",
        "    i: int = 1\n",
        "\n",
        "    while i <= n:\n",
        "        nota: float = float(input(f\"Digite a nota do aluno {i}: \"))\n",
        "        if nota >= 50 and nota <= 100:\n",
        "            cont += 1\n",
        "        i += 1\n",
        "\n",
        "    print(\"O número de alunos aprovados é:\", cont)\n",
        "\n",
        "def main() -> None:\n",
        "    \"\"\"Função principal que solicita o número de notas dos alunos.\"\"\"\n",
        "    n: int = int(input(\"Digite a quantidade de notas dos alunos: \"))\n",
        "    conta_aprovacoes(n)\n",
        "\n",
        "if __name__ == \"__main__\":\n",
        "    main()\n"
      ],
      "metadata": {
        "id": "U4_Pjn5FqFC6",
        "colab": {
          "base_uri": "https://localhost:8080/"
        },
        "outputId": "0c405ce1-6c73-41cc-cc5c-c3a2b5edc9ba"
      },
      "execution_count": null,
      "outputs": [
        {
          "output_type": "stream",
          "name": "stdout",
          "text": [
            "Digite a quantidade de notas dos alunos: 3\n",
            "Digite a nota do aluno 1: 50\n",
            "Digite a nota do aluno 2: 40\n",
            "Digite a nota do aluno 3: 75\n",
            "O número de alunos aprovados é: 2\n"
          ]
        }
      ]
    },
    {
      "cell_type": "markdown",
      "source": [
        "### Descrição geral do algoritmo versão 02\n",
        "\n",
        "1. Obter o número de notas $n$ a serem processadas;\n",
        "2. Inicializar a contagem $cont$ com zero;\n",
        "3. Fazer de forma iterativa conforme o número de notas:\n",
        "    - obter a próxima nota;\n",
        "    - se a nota for suficiente para passar no exame ($n ≥ 50$) então adicionar 1 (um) à contagem $cont$;\n",
        "4. Exibir a contagem $cont$ (número total de aprovações)."
      ],
      "metadata": {
        "id": "6efQFi5eh-Vi"
      }
    },
    {
      "cell_type": "markdown",
      "source": [
        "### Implementação em Python versão 02"
      ],
      "metadata": {
        "id": "H4jxYRQZiAJm"
      }
    },
    {
      "cell_type": "code",
      "source": [
        "def conta_aprovacoes(n: int) -> int:\n",
        "    \"\"\"\n",
        "    Conta o número de alunos aprovados com notas entre 50 e 100.\n",
        "    \"\"\"\n",
        "    cont: int = 0\n",
        "\n",
        "    for i in range(1, n + 1):\n",
        "        nota = float(input(f\"Digite a nota do aluno {i}: \"))\n",
        "        if nota >= 50 and nota <= 100:\n",
        "            cont += 1\n",
        "\n",
        "    print(f\"O número de alunos aprovados: {cont}\")\n",
        "\n",
        "def main():\n",
        "    n: int = 3\n",
        "    conta_aprovacoes(n)\n",
        "\n",
        "if __name__ == \"__main__\":\n",
        "    main()"
      ],
      "metadata": {
        "id": "3hJqucjkh9gf",
        "colab": {
          "base_uri": "https://localhost:8080/"
        },
        "outputId": "d982caf7-2313-4970-ecba-86f16818eb27"
      },
      "execution_count": null,
      "outputs": [
        {
          "output_type": "stream",
          "name": "stdout",
          "text": [
            "Digite a nota do aluno 1: 50\n",
            "Digite a nota do aluno 2: 40\n",
            "Digite a nota do aluno 3: 75\n",
            "O número de alunos aprovados: 2\n"
          ]
        }
      ]
    },
    {
      "cell_type": "markdown",
      "source": [
        "## Questão 3 - Soma de um conjunto de números\n",
        "\n",
        "Dado um conjunto de $n$ números, implemente e teste um algoritmo para calcular a soma desses números. <br>\n",
        "Aceite apenas $n$ maior ou igual a zero."
      ],
      "metadata": {
        "id": "0g5uU29qqPn7"
      }
    },
    {
      "cell_type": "markdown",
      "source": [
        "### Descrição geral do algoritmo\n",
        "\n",
        "1. Obter a quantidade de números $n$ a serem somados.\n",
        "2. Inicializar a variável $soma$ com 0 (zero).\n",
        "3. Enquanto menos do que $n$ números tiverem sido somados, fazer repetidamente:\n",
        "    - obter o próximo número $i$;\n",
        "    - calcular a soma atual, adicionando o número $i$ obtido à soma mais recente;\n",
        "4. Exibir a soma dos $n$ números"
      ],
      "metadata": {
        "id": "gJnakmGxjRUG"
      }
    },
    {
      "cell_type": "markdown",
      "source": [
        "### Implementação em Python"
      ],
      "metadata": {
        "id": "BN3vCBYfqiHr"
      }
    },
    {
      "cell_type": "code",
      "source": [
        "def soma_numeros(n: int) -> None:\n",
        "    \"\"\"\n",
        "    Calcula a soma de uma sequência de números.\n",
        "    \"\"\"\n",
        "    if n >= 0:\n",
        "        soma: int = 0\n",
        "        i: int = 1\n",
        "\n",
        "        while i <= n:\n",
        "            num: int = int(input(\"Digite um número: \"))\n",
        "            soma += num\n",
        "            i += 1\n",
        "\n",
        "        print(\"A soma dos números é:\", soma)\n",
        "    else:\n",
        "        print(\"O valor deve ser maior ou igual a zero!\")\n",
        "\n",
        "def main() -> None:\n",
        "    n = 3\n",
        "    soma_numeros(n)\n",
        "\n",
        "if __name__ == \"__main__\":\n",
        "    main()"
      ],
      "metadata": {
        "id": "PO8nF8H7qedh",
        "colab": {
          "base_uri": "https://localhost:8080/"
        },
        "outputId": "937d77ca-c7a1-4df6-da59-0181d90a5f6f"
      },
      "execution_count": null,
      "outputs": [
        {
          "output_type": "stream",
          "name": "stdout",
          "text": [
            "Digite um número: 5\n",
            "Digite um número: 10\n",
            "Digite um número: 20\n",
            "A soma dos números é: 35\n"
          ]
        }
      ]
    },
    {
      "cell_type": "markdown",
      "source": [
        "## Questão 4 - Cálculo de uma série\n",
        "\n",
        "Dado um conjunto de $n$ termos da série, implemente e teste um algoritmo para calcular o valor de S, conforme definido abaixo:\n",
        "\n",
        "$$ S = \\frac{1}{2} + \\frac{3}{4} + \\frac{5}{6} + \\frac{7}{8} + \\dots $$"
      ],
      "metadata": {
        "id": "ANbTtYNSqpbD"
      }
    },
    {
      "cell_type": "markdown",
      "source": [
        "### Descrição geral do algoritmo\n",
        "\n",
        "1. Obter o número de termos $n$;\n",
        "2. Inicializar a variável $S$ com 0 (zero).\n",
        "3. Iterar o valor de $n$ na variável $i$ iniciando com 0 (zero), de acordo com as instruções abaixo:\n",
        "    - calcular o numerador na variável $numerador$;\n",
        "    - calcular o denominador  na variável $denominador$;;\n",
        "    - calcular o termo da série na variável $termo$, onde $termo = numerador/denominador$;\n",
        "    - adicionar esse termo à variável $S$.\n",
        "4. Exibir o valor da série $S$."
      ],
      "metadata": {
        "id": "5H1m7EBVj5fC"
      }
    },
    {
      "cell_type": "markdown",
      "source": [
        "### Implementação em Python"
      ],
      "metadata": {
        "id": "UxriZEhPq9CE"
      }
    },
    {
      "cell_type": "code",
      "source": [
        "def soma_serie(n: int) -> float:\n",
        "    \"\"\"\n",
        "    Calcula a soma da série S mediante o número de termos informado.\n",
        "    \"\"\"\n",
        "    S: float = 0\n",
        "\n",
        "    for i in range(n):\n",
        "        numerador: int = 2 * i + 1\n",
        "        denominador: int = 2 * i + 2\n",
        "        termo: float = numerador / denominador\n",
        "        S += termo\n",
        "\n",
        "    return S\n",
        "\n",
        "def main() -> None:\n",
        "    n: int = 4\n",
        "    resultado: float = soma_serie(n)\n",
        "    print(f\"Soma da série S: {resultado:.2f}\")\n",
        "\n",
        "if __name__ == \"__main__\":\n",
        "    main()"
      ],
      "metadata": {
        "id": "dArqpPvwquuk",
        "colab": {
          "base_uri": "https://localhost:8080/"
        },
        "outputId": "89538567-75db-458c-80a3-4c9e67533ddd"
      },
      "execution_count": null,
      "outputs": [
        {
          "output_type": "stream",
          "name": "stdout",
          "text": [
            "Soma da série S: 2.96\n"
          ]
        }
      ]
    },
    {
      "cell_type": "markdown",
      "source": [
        "## Questão 5 - Cálculo fatorial\n",
        "\n",
        "Dado um número $n$, implemente e teste um algoritmo para calcular o fatorial de $n$ (escrito como $n!$), onde $n ≥ 0$.<br> **Obrigatório uso da estrutura composta `try except`**.\n"
      ],
      "metadata": {
        "id": "Yir9rW9_kGXa"
      }
    },
    {
      "cell_type": "markdown",
      "source": [
        "### Descrição geral do algoritmo\n",
        "\n",
        "1. Obter o número $n$, onde $n \\geq 0$;\n",
        "2. Inicializar a variável $fator$ com 1 (um) para armazenar o resultado do cálculo do fatorial;\n",
        "3. Iterar o valor de $n$ na variável $i$, ou seja, executar $n$ vezes, as instruções abaixo:\n",
        "    - Incrementar o valor atual $fator$ multiplicando pelo valor de $i$;\n",
        "4. Exibir o resultado ($n!$)."
      ],
      "metadata": {
        "id": "_OM17stZkISH"
      }
    },
    {
      "cell_type": "markdown",
      "source": [
        "### Implementação em Python"
      ],
      "metadata": {
        "id": "P07NQrfp2wbo"
      }
    },
    {
      "cell_type": "code",
      "source": [
        "def calc_fatorial(n: int) -> None:\n",
        "    \"\"\"\n",
        "    Calcula o fatorial de um número inteiro não-negativo e imprime o resultado.\n",
        "    \"\"\"\n",
        "    if n >= 0:\n",
        "        fatorial: int = 1\n",
        "\n",
        "        for i in range(1, n + 1):\n",
        "            fatorial *= i\n",
        "\n",
        "        print(f\"{n}! = {fatorial}\")\n",
        "    else:\n",
        "        print(\"O valor deve ser maior ou igual a zero!\")\n",
        "\n",
        "def main() -> None:\n",
        "    n: int = 5\n",
        "    calc_fatorial(n)\n",
        "\n",
        "if __name__ == \"__main__\":\n",
        "    main()"
      ],
      "metadata": {
        "id": "8D2HoRnb2pj9",
        "colab": {
          "base_uri": "https://localhost:8080/"
        },
        "outputId": "c5235cd4-3b72-4843-d847-ae524f029264"
      },
      "execution_count": null,
      "outputs": [
        {
          "output_type": "stream",
          "name": "stdout",
          "text": [
            "5! = 120\n"
          ]
        }
      ]
    },
    {
      "cell_type": "markdown",
      "source": [
        "## Questão 6 - Geração da sequência de Fibonacci (2 pontos)\n",
        "\n",
        "Gerar e imprimir os $n$ primeiros termos da sequência de Fibonacci, onde $n ≥ 1$. <br>\n",
        "Os primeiros termos são: $0, 1, 1, 2, 3, 5, 8, 13, \\dots$. Cada termo, além dos dois primeiros, é derivado da soma dos seus dois antecessores mais próximos."
      ],
      "metadata": {
        "id": "ow-euHWzkvNJ"
      }
    },
    {
      "cell_type": "markdown",
      "source": [
        "### Descrição geral do algoritmo\n",
        "\n",
        "1. Obter o número de termos $n$, onde $n \\geq 1$;\n",
        "2. Inicializar os dois primeiros termos da série nas variável $a$ e $b$ com 0 (zero);\n",
        "3. Iterar o valor de $n$, ou seja, executar $n$ vezes, as instruções abaixo:\n",
        "    - Imprimir o termo inicial $a$ (instrução para exibir a sequência ao atualizar a variável $a$);\n",
        "    - Somar os termos $a$ e $b$ na variável $termo_atual$;\n",
        "    - Atribuir a variável $a$ o valor da variável $b$;\n",
        "    - Atribuir a variável $b$ o valor da variável $termo_atual$."
      ],
      "metadata": {
        "id": "MEXouOmukx1M"
      }
    },
    {
      "cell_type": "markdown",
      "source": [
        "### Implementação em Python"
      ],
      "metadata": {
        "id": "vfnySFuP2xlY"
      }
    },
    {
      "cell_type": "code",
      "source": [
        "def gera_fibonacci(n: int) -> None:\n",
        "    \"\"\"Gera e imprime os primeiros n termos da série Fibonacci.\"\"\"\n",
        "    a: int = 0\n",
        "    b: int = 1\n",
        "\n",
        "    for i in range(1, n + 1):\n",
        "        print(a, end=\" \")\n",
        "\n",
        "        termo_atual: int = a + b\n",
        "        a, b = b, termo_atual\n",
        "\n",
        "def main() -> None:\n",
        "    n: int = 20\n",
        "    gera_fibonacci(n)\n",
        "\n",
        "if __name__ == \"__main__\":\n",
        "    main()"
      ],
      "metadata": {
        "id": "DPOYe6lR2qHY",
        "colab": {
          "base_uri": "https://localhost:8080/"
        },
        "outputId": "91dfbcc6-b502-44fd-ce48-7d28916ca9fc"
      },
      "execution_count": null,
      "outputs": [
        {
          "output_type": "stream",
          "name": "stdout",
          "text": [
            "0 1 1 2 3 5 8 13 21 34 55 89 144 233 377 610 987 1597 2584 4181 "
          ]
        }
      ]
    },
    {
      "cell_type": "markdown",
      "source": [
        "### Questão 7 - Inversão dos dígitos de um número inteiro (2 pontos)\n",
        "\n",
        "Implemente e teste um algoritmo para inverter a ordem dos dígitos de um número inteiro positivo.<br> **Obrigatório uso da estrutura composta `try except`**.\n"
      ],
      "metadata": {
        "id": "VnP0uZcZrVLO"
      }
    },
    {
      "cell_type": "markdown",
      "source": [
        "### Descrição geral do algoritmo\n",
        "\n",
        "1. Obter o número inteiro positivo $num$ a ser invertido;\n",
        "2. Inicializar a variável $num_{inv}$ com 0 (zero);\n",
        "3. Enquanto o número for maior que zero ($num > 0$), faça repetidamente:\n",
        "    - Calcular o último dígito do número na variável $digito$;\n",
        "    - Adicionar o dígito ao número invertido $num_{inv}$;\n",
        "    - Remover o último dígito do número original $num$;\n",
        "4. Exibir o número invertido $num_{inv}$."
      ],
      "metadata": {
        "id": "yUB4-izxrYfs"
      }
    },
    {
      "cell_type": "markdown",
      "source": [
        "### Implementação em Python"
      ],
      "metadata": {
        "id": "fK99ct6r2ySD"
      }
    },
    {
      "cell_type": "code",
      "source": [
        "def inverte_inteiro(num: int) -> None:\n",
        "    \"\"\"\n",
        "    Inverte um número inteiro positivo e imprime o resultado.\n",
        "    \"\"\"\n",
        "    if num < 0:\n",
        "        print(\"O número deve ser positivo!\")\n",
        "    else:\n",
        "        num_inv: int = 0\n",
        "\n",
        "        while num > 0:\n",
        "            digito: int = num % 10\n",
        "            num_inv = (num_inv * 10) + digito\n",
        "            num //= 10\n",
        "\n",
        "        print(\"Número invertido:\", num_inv)\n",
        "\n",
        "def main() -> None:\n",
        "    num: int = 537\n",
        "    inverte_inteiro(num)\n",
        "\n",
        "if __name__ == \"__main__\":\n",
        "    main()"
      ],
      "metadata": {
        "id": "XCWIhtoz2qzQ",
        "colab": {
          "base_uri": "https://localhost:8080/"
        },
        "outputId": "98982dc0-13ea-4131-b9d5-dbe020fc5eee"
      },
      "execution_count": null,
      "outputs": [
        {
          "output_type": "stream",
          "name": "stdout",
          "text": [
            "Número invertido: 735\n"
          ]
        }
      ]
    },
    {
      "cell_type": "markdown",
      "source": [
        "## Questão 8: Jogo de Adivinhação com múltiplas tentativas\n"
      ],
      "metadata": {
        "id": "gFL-yntf2M5V"
      }
    },
    {
      "cell_type": "markdown",
      "source": [
        "### Descrição geral do algoritmo\n",
        "\n",
        "1. O programa gera aleatoriamente um número inteiro entre um valor mínimo e máximo definidos pelo usuário.\n",
        "2. O jogador tem um número limitado de tentativas para adivinhar o número gerado pelo programa.\n",
        "3. Após cada tentativa do jogador, o programa informa se o número correto é maior, menor ou igual ao número fornecido pelo jogador.\n",
        "4. O jogo continua até que o jogador adivinhe corretamente o número ou esgote todas as tentativas.\n",
        "\n",
        "**Requisitos:**\n",
        "\n",
        "- Utilize a biblioteca `random` para gerar números aleatórios.\n",
        "- Permita que o jogador escolha o intervalo de números (mínimo e máximo).\n",
        "- Defina um número máximo de tentativas para o jogador.\n",
        "- Mostre ao jogador quantas tentativas restam após cada tentativa.\n",
        "- Ao final do jogo, informe ao jogador se ele acertou o número ou não.\n",
        "\n",
        "**Dicas:**\n",
        "\n",
        "- Use estruturas de repetição como `while` para controlar as tentativas do jogador.\n",
        "- Utilize a função `input` para receber as respostas do jogador.\n",
        "- Lembre-se de tratar entradas inválidas ou fora do intervalo definido.\n",
        "\n",
        "Boa sorte!"
      ],
      "metadata": {
        "id": "E0SQ-5IC2gdZ"
      }
    },
    {
      "cell_type": "markdown",
      "source": [
        "### Implementação em Python"
      ],
      "metadata": {
        "id": "iq9hUcfW2zPa"
      }
    },
    {
      "cell_type": "code",
      "source": [
        "from random import randint\n",
        "\n",
        "def jogo_adivinhacao(inicio: int, fim: int, n:int) -> None:\n",
        "\n",
        "    # Condições de execução (não obrigatório)\n",
        "    assert isinstance(inicio, int), \"Valor de início deve ser inteiro!\"\n",
        "    assert isinstance(fim, int), \"Valor de fim deve ser inteiro!\"\n",
        "    assert fim > inicio, \"O valor de fim deve ser maior que o valor de início!\"\n",
        "\n",
        "\n",
        "    # Mensagen iniciais\n",
        "    print(f\"Tente adivinhar o número entre {inicio} e {fim}.\")\n",
        "    print(f\"Você tem {n} tentativas!\")\n",
        "\n",
        "    # Gera um número inteiro aleatório\n",
        "    num: int = randint(inicio, fim)\n",
        "    print(f\"Número secreto para testar o código: {num}\")\n",
        "\n",
        "\n",
        "    # Inicializa o número de tentativas\n",
        "    cont: int = 1\n",
        "\n",
        "    # Loop para gerar o jogo\n",
        "    while cont <= n:\n",
        "\n",
        "        print(f\"\\n\\tTentativa número {cont}\")\n",
        "\n",
        "        try:\n",
        "            chute: int = int(input(\"\\tChute um número: \"))\n",
        "        except ValueError as e:\n",
        "            print(\"\\tOps! Digite um valor válido ...\")\n",
        "            print(f\"\\tMensagem de erro: {e}\")\n",
        "            continue\n",
        "\n",
        "        if chute < num:\n",
        "            print(\"\\tChute muito baixo!\")\n",
        "        elif chute > num:\n",
        "            print(\"\\tChute muito alto!\")\n",
        "        else:\n",
        "            print(f\"\\nParabéns! Você acertou o número {num}!\")\n",
        "            break\n",
        "\n",
        "        cont+= 1\n",
        "\n",
        "    if chute != num:\n",
        "        print(f\"\\nVocê gastou suas {cont-1} tentativas!!! O número era {num}.\")\n",
        "\n",
        "    print(f\"Fim de jogo!\")\n",
        "\n",
        "def main() -> None:\n",
        "    inicio: int = 0\n",
        "    fim: int = 10\n",
        "    n: int = 3\n",
        "    jogo_adivinhacao(inicio, fim, n)\n",
        "\n",
        "if __name__ == \"__main__\":\n",
        "    main()"
      ],
      "metadata": {
        "id": "0EdBMYqkkxRE",
        "colab": {
          "base_uri": "https://localhost:8080/"
        },
        "outputId": "232de130-6a4f-469b-de33-a49ad2410c05"
      },
      "execution_count": null,
      "outputs": [
        {
          "output_type": "stream",
          "name": "stdout",
          "text": [
            "Tente adivinhar o número entre 0 e 10.\n",
            "Você tem 3 tentativas!\n",
            "Número secreto para testar o código: 6\n",
            "\n",
            "\tTentativa número 1\n",
            "\tChute um número: 4\n",
            "\tChute muito baixo!\n",
            "\n",
            "\tTentativa número 2\n",
            "\tChute um número: 8\n",
            "\tChute muito alto!\n",
            "\n",
            "\tTentativa número 3\n",
            "\tChute um número: 6\n",
            "\n",
            "Parabéns! Você acertou o número 6!\n",
            "Fim de jogo!\n"
          ]
        }
      ]
    },
    {
      "cell_type": "code",
      "source": [],
      "metadata": {
        "id": "dlLlklFc3vM_"
      },
      "execution_count": null,
      "outputs": []
    }
  ]
}
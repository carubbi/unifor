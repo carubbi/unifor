{
  "nbformat": 4,
  "nbformat_minor": 0,
  "metadata": {
    "colab": {
      "provenance": []
    },
    "kernelspec": {
      "name": "python3",
      "display_name": "Python 3"
    },
    "language_info": {
      "name": "python"
    }
  },
  "cells": [
    {
      "cell_type": "markdown",
      "source": [
        "<img src=\"https://drive.google.com/uc?id=1SOzRTjUt7cuBJpSqoK90fcAiKBrnpUJo\" width=\"400\">\n",
        "\n",
        "**Data:** preencha com a data de envio <br>\n",
        "**Aluno(a):** preencha com seus dados <br>\n",
        "**Matrícula:** preencha com seus dados <br>\n",
        "**Turma**: preencha com seus dados <br>"
      ],
      "metadata": {
        "id": "02Dckeirosf4"
      }
    },
    {
      "cell_type": "markdown",
      "source": [
        "# Avaliação Formativa 5"
      ],
      "metadata": {
        "id": "hRuWQ6-9spAd"
      }
    },
    {
      "cell_type": "markdown",
      "source": [
        "## Normas e exigências\n",
        "- **Data de entrega**: 02/05/2024\n",
        "- **Pontuação total**: 02 pontos"
      ],
      "metadata": {
        "id": "wr6cLXl2rbiR"
      }
    },
    {
      "cell_type": "markdown",
      "source": [
        "## Instruções Gerais:\n",
        "1. A duração da prova é de 1:40h;\n",
        "2. A tolerância de entrada é de 30 min após o início da prova. Se um aluno terminar a prova em menos de 30min, deverá aguardar em sala antes de entregar a prova e sair de sala;\n",
        "3. A prova é sem consulta a professores ou a qualquer tipo de material. A interpretação dos enunciados faz parte da prova;\n",
        "4. Não é permitido o uso de celular ou quaisquer dispositivos de comunicação como smartwatch e similares. Estes dispositivos devem estar fora do alcance durante a prova;\n",
        "5. A prova será desenvolvida apenas no ambiente do Google Colab e logado com o e-mail institucional do aluno.\n",
        "6. A prova será validada apenas se o aluno estiver presente em sala de aula."
      ],
      "metadata": {
        "id": "N2uKR4xqqhFP"
      }
    },
    {
      "cell_type": "markdown",
      "source": [
        "## Instruções específicas"
      ],
      "metadata": {
        "id": "zTf-P6JmudcL"
      }
    },
    {
      "cell_type": "markdown",
      "source": [
        "1. É responsabilidade do aluno salvar periodicamente o seu trabalho;\n",
        "2. O nome do arquivo deve ser AV2 seguido por nome e matrícula. Exemplo: AV2-MARIA-1012983.ipynb;\n",
        "3. No início do seu notebbok, preencha a data, seu nome completo, sua matrícula e sua turma;\n",
        "4. Antes de perguntar, leia atentamente o que está sendo pedido;\n",
        "5. Quando terminar a prova, não feche o seu programa, não desligue o computador permaneça sentado e chame um professor;\n",
        "6. A correção da prova será realizada na próxima aula."
      ],
      "metadata": {
        "id": "v7jLO0OEuf9C"
      }
    },
    {
      "cell_type": "markdown",
      "source": [
        "## Observações\n",
        "\n",
        "- É considerada uma questão válida àquela que, **limitada aos conhecimentos aprendidos em sala de aula**, resultar em saída de dados correta para toda e qualquer instância do problema.\n",
        "- É obrigatório o uso de anotações do tipo do dado e documentação. Ou seja:\n",
        "        def func1(param: tipo, ...):\n",
        "            \"\"\"\n",
        "            Documentação ...\n",
        "            \"\"\"\n",
        "            var: tipo = valor\n",
        "            ...\n",
        "            return var\n",
        "- Todas as questões devem seguir a **modularização de algortimos** quando possível. Ou seja, o uso de uma ou mais função secundárias, uma função principal chamada `main()` e trecho de verificação se o script está sendo executado como o programa principal.\n",
        "\n",
        "        def func2(param: tipo, ...):\n",
        "            ...\n",
        "        def func1(param: tipo, ...):\n",
        "            ...        \n",
        "            func2(arg: tipo, ...)\n",
        "            ...\n",
        "\n",
        "        def main() -> None:\n",
        "            arg: tipo = valor\n",
        "            func1(arg, ...)\n",
        "\n",
        "        if __name__ == \"__main__\":\n",
        "            main()"
      ],
      "metadata": {
        "id": "5tdmhcu-uFfP"
      }
    },
    {
      "cell_type": "markdown",
      "source": [
        "## Questão 01 (4 pontos)"
      ],
      "metadata": {
        "id": "nv2hFs6pEpBB"
      }
    },
    {
      "cell_type": "markdown",
      "source": [
        "O rendimento acadêmico da UNIFOR é acompanhado por meio de três registros de Avaliação (AV1, AV2 e AV3), resultantes da consolidação do desempenho nas atividades avaliativas aplicadas em cada período e aferido por Nota Final (NF) correspondente à média aritmética entre a nota resultante da média de AV1 e AV2 e a nota de AV3, atribuídas numa escala de 0,0 a 10,0, conforme a seguinte fórmula:\n",
        "\n",
        "$$NF = [(AV1 + AV2)/2 + AV3]/2$$\n",
        "\n",
        "Estará aprovado por rendimento acadêmico, o aluno que obtiver Nota Final ($NF$) igual ou superior a $5,0$ (cinco vírgula zero), desde que a nota resultante da média entre $AV1$ e $AV2$ seja igual ou superior a $4,0$ (quatro vírgula zero) e a nota de $AV3$ seja igual ou superior a $4,0$ (quatro vírgula zero)."
      ],
      "metadata": {
        "id": "HJu_s_dkdk6w"
      }
    },
    {
      "cell_type": "markdown",
      "source": [
        "### Estratégia"
      ],
      "metadata": {
        "id": "Q6C4giQGfLqm"
      }
    },
    {
      "cell_type": "markdown",
      "source": [
        "1. Implemente a subfunção `nota_final` a fim de calcular a Nota Final (NF) com base nas notas das avaliações (1 ponto).\n",
        "2. Implemente a subfunção `media_minima` a fim de verificar se o aluno possui média mínima na AV1 e AV2 (1 ponto).\n",
        "3. Implemente a subfunção `situacao_aluno` a fim de chamar as outras subfunções e verificar a situação do aluno com a exibição da mensagem correspondente (aprovado ou reprovado) (1 ponto).\n",
        "4. Implemente a função principal `main` a fim de chamar as subfunções e exibir o resultado exigido de acordo com as entradas obrigatórias (1 ponto)."
      ],
      "metadata": {
        "id": "T1UqYKs1fdeu"
      }
    },
    {
      "cell_type": "code",
      "source": [
        "def calcular_nota_final(av1, av2, av3):\n",
        "    return ((av1 + av2) / 2 + av3) / 2\n",
        "\n",
        "def media_av1_av2(av1, av2):\n",
        "    return (av1 + av2) / 2\n",
        "\n",
        "def situacao_aluno(av1, av2):\n",
        "    media = media_av1_av2(av1, av2)\n",
        "    if media >= 4.0:\n",
        "        av3 = float(input(\"Digite a nota da AV3: \"))\n",
        "        nf = calcular_nota_final(av1, av2, av3)\n",
        "\n",
        "        if nf >= 5.0:\n",
        "            print(f\"Nota: {nf:.1f} Aprovado!\")\n",
        "        else:\n",
        "            print(f\"Nota: {nf:.1f} Reprovado\")\n",
        "    else:\n",
        "        med = (av1+av2)/2\n",
        "        print(f\"Nota {med:.1f} Reprovado\")\n",
        "\n",
        "def main():\n",
        "\n",
        "    av1 = 8.5\n",
        "    av2 = 7.0\n",
        "    situacao_aluno(av1, av2)\n",
        "\n",
        "    av1 = 2.5\n",
        "    av2 = 5.5\n",
        "    situacao_aluno(av1, av2)\n",
        "\n",
        "    av1 = 1.0\n",
        "    av2 = 6.0\n",
        "    situacao_aluno(av1, av2)\n",
        "\n",
        "if __name__ == \"__main__\":\n",
        "    main()"
      ],
      "metadata": {
        "id": "w_2uxv6UEqyL"
      },
      "execution_count": null,
      "outputs": []
    },
    {
      "cell_type": "markdown",
      "source": [
        "## Questão 02 (6 pontos)"
      ],
      "metadata": {
        "id": "aZ4iy-kOmRbl"
      }
    },
    {
      "cell_type": "markdown",
      "source": [
        "Uma pequena loja de artesanato possui apenas um vendedor e comercializa dez tipos de objetos. O vendedor recebe, mensalmente, salário de R$545,00, acrescido de 5% do valor total de suas vendas. O valor unitário dos objetos deve ser informado e armazenado em um vetor; a quantidade vendida de cada peça deve ficar em outro vetor, mas na mesma posição. Crie um programa que receba os preços e as quantidades vendidas, armazenando-os em seus respectivos vetores (ambos com tamanho dez).\n",
        "\n",
        "Depois determine e mostre:\n",
        "\n",
        "1. um relatório contendo: a quantidade vendida, valor unitário e valor total de cada objeto. Ao final, deverão ser mostrados o valor geral das vendas e o valor da comissão que será paga ao vendedor; e\n",
        "\n",
        "2. o valor do objeto mais vendido e sua posição no vetor (não se preocupe com empates)."
      ],
      "metadata": {
        "id": "Xhv1JLAP93N6"
      }
    },
    {
      "cell_type": "markdown",
      "source": [
        "### Estratégia"
      ],
      "metadata": {
        "id": "3x1Ch2Nr-0vJ"
      }
    },
    {
      "cell_type": "markdown",
      "source": [
        "1. Implemente a subfunção `produto_quantidade` para preencher os vetores de preços e quantidades dos produtos (1 ponto);\n",
        "2. Implemente a subfunção `total_vendas` para calcular o total geral vendido e exibir as quantidade, preço e total de cada produto (1 ponto);\n",
        "3. Implemente a subfunção `comissao` para calcular a comissão de vendas (1 ponto);\n",
        "4. Implemente a subfunção `maior_produto` para definir o preço do produto com a maior quantidade vendida (2 ponto);\n",
        "5. Implemente a função principal `main` a fim de chamar as subfunções e exibir os resultados exigidos de acordo com as entradas obrigatórias (1 ponto)."
      ],
      "metadata": {
        "id": "adksoFOWNL0S"
      }
    },
    {
      "cell_type": "markdown",
      "source": [
        "### Implementação"
      ],
      "metadata": {
        "id": "Qt3xjp7-NMIJ"
      }
    },
    {
      "cell_type": "code",
      "source": [
        "def preenche_vetor(n: int) -> list[float]:\n",
        "    \"\"\"\n",
        "    Preenche os vetores com os preços e quantidades dos produtos e retorna os\n",
        "    respectivos vetores.\n",
        "    \"\"\"\n",
        "    vec: list[float] = [0.] * n\n",
        "\n",
        "    for i in range(n): # 0,1,2,..., n-1\n",
        "        vec[i] = float(input(f\"Digite o valor {i + 1}: \"))\n",
        "\n",
        "    return vec\n",
        "\n",
        "def prod_qtd(n: int) -> list[float] and list[int]:\n",
        "    \"\"\"\n",
        "    Preenche os vetores com os preços e quantidades dos produtos e retorna os\n",
        "    respectivos vetores.\n",
        "    \"\"\"\n",
        "    preco: list[int] = [0] * n\n",
        "    qtd: list[int] = [0] * n\n",
        "\n",
        "    for i in range(n):\n",
        "        preco[i] = float(input(f\"Digite o preço do produto {i + 1}: \"))\n",
        "        qtd[i] = int(input(f\"Digite a quantidade vendida do produto {i + 1}: \"))\n",
        "        print()\n",
        "\n",
        "    return preco, qtd\n",
        "\n",
        "def total_vendas(preco: list[float], qtd: list[int]) -> float:\n",
        "    \"\"\"\n",
        "    Retorna as vendas totais e exibe as vendas de cada produto.\n",
        "    \"\"\"\n",
        "    n: int = len(preco)\n",
        "    tot_geral: int = 0\n",
        "    for i in range(n):\n",
        "        tot_vend: float = qtd[i] * preco[i]\n",
        "        print(f\"R$: {preco[i]} Qtd: {qtd[i]} Total: {tot_vend}\")\n",
        "        tot_geral += tot_vend # tot_geral = tot_geral + tot_vend\n",
        "\n",
        "    return tot_geral\n",
        "\n",
        "def comissao(tot_geral: float, taxa: int = 5) -> float:\n",
        "    \"\"\"\n",
        "    Calcula a comissão.\n",
        "    \"\"\"\n",
        "    return tot_geral * taxa / 100\n",
        "\n",
        "\n",
        "def maior_prod(preco: list[float], qtd: list[int]) -> float and int:\n",
        "    \"\"\"\n",
        "    Retorna o preço do produto com a maior quantidade vendida.\n",
        "    \"\"\"\n",
        "    maior: int = qtd[0]\n",
        "    imaior: int = 0\n",
        "    n: int = len(qtd)\n",
        "    for i in range(1, n):\n",
        "        if qtd[i] > maior:\n",
        "            maior = qtd[i]\n",
        "            imaior = i\n",
        "\n",
        "    return preco[imaior], maior\n",
        "\n",
        "def main() -> None:\n",
        "    p, q = prod_qtd(10)\n",
        "    t = total_vendas(p, q)\n",
        "    c = comissao(t)\n",
        "    print(f\"\\nTotal Geral: R$ {t:.2f} Comissão: R$ {c:.2f}\")\n",
        "    mp, mq = maior_prod(p,q)\n",
        "    print(f\"Objeto mais vendido: R$ {mp:.2f} Qtd: {mq}\")\n",
        "\n",
        "if __name__ == \"__main__\":\n",
        "    main()"
      ],
      "metadata": {
        "id": "Dvk99FLw-YIR"
      },
      "execution_count": null,
      "outputs": []
    },
    {
      "cell_type": "code",
      "source": [],
      "metadata": {
        "id": "dyZULOrH0d9T"
      },
      "execution_count": null,
      "outputs": []
    }
  ]
}
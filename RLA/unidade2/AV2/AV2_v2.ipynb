{
  "nbformat": 4,
  "nbformat_minor": 0,
  "metadata": {
    "colab": {
      "provenance": [],
      "toc_visible": true
    },
    "kernelspec": {
      "name": "python3",
      "display_name": "Python 3"
    },
    "language_info": {
      "name": "python"
    }
  },
  "cells": [
    {
      "cell_type": "markdown",
      "source": [
        "<img src=\"https://drive.google.com/uc?id=1SOzRTjUt7cuBJpSqoK90fcAiKBrnpUJo\" width=\"400\">\n",
        "\n",
        "**Data:** preencha com a data de envio <br>\n",
        "**Aluno(a):** preencha com seus dados <br>\n",
        "**Matrícula:** preencha com seus dados <br>\n",
        "**Turma**: preencha com seus dados <br>"
      ],
      "metadata": {
        "id": "02Dckeirosf4"
      }
    },
    {
      "cell_type": "markdown",
      "source": [
        "# **Instruções para resolução da prova**"
      ],
      "metadata": {
        "id": "N2uKR4xqqhFP"
      }
    },
    {
      "cell_type": "markdown",
      "source": [
        "1. A duração da prova é de 1:40h;\n",
        "2. A tolerância de entrada é de 30 min após o início da prova. Se um aluno terminar a prova em menos de 30min, deverá aguardar em sala antes de entregar a prova e sair de sala;\n",
        "3. A prova é sem consulta a professores ou a qualquer tipo de material. A interpretação dos enunciados faz parte da prova;\n",
        "4. Não é permitido o uso de celular ou quaisquer dispositivos de comunicação como smartwatch e similares. Estes dispositivos devem estar desligados e fora do alcance durante a prova. A utilização destes dispositivos, sob quaisquer circunstâncias, acarretará na anulação da prova;\n",
        "5. A prova será desenvolvida apenas no ambiente do Google Colab e logado com o e-mail institucional do aluno. A violação desta regra acarretará na anulação da prova;\n",
        "6. A prova será validada apenas se o aluno estiver presente em sala de aula. A alteração do envio no AVA após a aplicação da prova, acarretará na anulação da mesma;\n",
        "7. No início do seu notebbok, preencha a data, seu nome completo, sua matrícula e sua turma;\n",
        "8. **Ao terminar a prova, chame o professor para autorizar individualmente o envio do arquivo através do AVA. O AVA estará liberado para todos os alunos apenas 10 minutos antes do término da prova**\n",
        "9. O nome do arquivo deve ser AV2 seguido por nome e matrícula. Exemplo: AV2-MARIA-1012983.ipynb;\n",
        "10. O notebook deverá ser enviado através do AVA até o final do horário estipulado para a realização da prova.\n",
        "11. Não será considerada a prova enviada após o limite horário estabelecido ou entrega através do AVA;\n",
        "12. A lista de entrega da AV2 deverá ser assinada após o envio através do AVA."
      ],
      "metadata": {
        "id": "T4w8XE8TKBz-"
      }
    },
    {
      "cell_type": "markdown",
      "source": [
        "# Questão 01 (6 pontos)"
      ],
      "metadata": {
        "id": "nUVcPvg5MSCi"
      }
    },
    {
      "cell_type": "markdown",
      "source": [
        "Desenvolva um programa para um **jogo de adivinhação**. O programa deve **gerar aleatoriamente** um número inteiro entre um valor mínimo e máximo definidos pelo usuário. O jogador terá um **número limitado de tentativas** para adivinhar o número gerado pelo programa. Após cada tentativa do jogador, o programa deve informar se o número número fornecido pelo jogador está **muito próximo (muito quente), próximo (quente), distante (frio) ou muito distante (muito frio)** ao número aleatório. O jogo continuará até que o jogador **adivinhe** corretamente o número aleatório ou **esgote** todas as tentativas."
      ],
      "metadata": {
        "id": "Hzvk1nBcMWTT"
      }
    },
    {
      "cell_type": "markdown",
      "source": [
        "## Estratégia"
      ],
      "metadata": {
        "id": "7HHcihQZMpjB"
      }
    },
    {
      "cell_type": "markdown",
      "source": [
        "1. **Importe a Biblioteca:** (0,5 ponto)\n",
        "   - Importe a função da biblioteca ou apenas a função necessária para gerar um número aleatório dentro do intervalo definido.\n",
        "\n",
        "2. **Crie a Função `jogo_adivinhacao`:** (0,5 ponto)\n",
        "   - Crie uma função chamada `jogo_adivinhacao` que aceita os parâmetros do `início`, `fim` e `n_tentativas`.\n",
        "   - Os parâmetros `inicio` e `fim` definem o intervalo de números no qual o jogador poderá adivinhar.\n",
        "   - O parâmetro `n_tentativas` define o número máximo de tentativas.\n",
        "   \n",
        "3. **Defina o número aleatório**\n",
        "   - Dentro da função, gere um número aleatório usando a função importada e armazene-o na variável `numero_secreto`.\n",
        "   \n",
        "4. **Implemente a lógica do jogo no loop:** (2,5 pontos)\n",
        "   - Inicialize a variável `cont` para contar o número de tentativas do jogador.\n",
        "   - Use um loop `while` para controlar o jogo e permitir que o jogador faça um número limitado de tentativas usando as variáveis `cont` e `n_tentativas`.\n",
        "   - Dentro do loop, solicite ao jogador que faça uma tentativa para adivinhar o número secreto.\n",
        "   - Compare a tentativa do jogador com o número aleatório gerado (`numero_secreto`) e forneça feedback ao jogador, conforme a diferença absoluta entre numero secreto e o chute:\n",
        "        - se for zero, imprima \"Parabéns! Você acertou o número `numero_secreto`!\"\n",
        "        - se for menor que 2, imprima \"Muito quente!\"\n",
        "        - se for menor que 4, imprima \"Quente!\"\n",
        "        - se for menor que 6, imprima \"Frio!\"\n",
        "        - se não for nenhuma das condições acima, imprima \"Muito frio!\"\n",
        "   - Incremente a variável `cont` a cada tentativa.\n",
        "\n",
        "5. **Adicione Tratamento de Erros** (dentro do `while`): (1 ponto)\n",
        "   - Use uma estrutura de controle de exceções para lidar com possíveis erros de entrada do jogador, como quando o jogador digita algo que não é um número, por exemplo um `string` \"cinco\".\n",
        "   - Se ocorrer um erro, exiba uma mensagem de erro e continue o loop para a próxima tentativa.\n",
        "\n",
        "6. **Finalize o Jogo** (dentro do `while`): (1 ponto)\n",
        "   - Interrompa o loop, caso verifique que o jogador acertou o número (`numero_secreto`) com mensagens de parabẽns.\n",
        "   - Caso o jogador não acerte o número secreto, forneça ao jogador as tenativas feitas e o número secreto.\n",
        "   - Finalize o jogo exibindo uma mensagem de fim de jogo.\n",
        "\n",
        "7. **Crie a Função `main`:** (0,5 ponto)\n",
        "   - Crie uma função `main` que define os parâmetros iniciais do jogo (início, fim e número de tentativas) e chame a função `jogo_adivinhacao` com esses parâmetros.\n",
        "\n",
        "8. **Chame a Função `main`:**\n",
        "   - No final do script, verifique se o script está sendo executado como o programa principal (`if __name__ == \"__main__\":`) e, se sim, chame a função `main` para iniciar o jogo."
      ],
      "metadata": {
        "id": "cCqmcCdUgnNo"
      }
    },
    {
      "cell_type": "markdown",
      "source": [
        "## Entradas obrigatórias"
      ],
      "metadata": {
        "id": "UNbGrLhywIua"
      }
    },
    {
      "cell_type": "markdown",
      "source": [
        "    inicio = 0\n",
        "    fim = 10\n",
        "    n_tentativas = 3"
      ],
      "metadata": {
        "id": "rQdbMsJNwKj_"
      }
    },
    {
      "cell_type": "markdown",
      "source": [
        "## Saídas de exemplo"
      ],
      "metadata": {
        "id": "7Ypp8AI01I_0"
      }
    },
    {
      "cell_type": "markdown",
      "source": [
        "    Tente adivinhar o número entre 0 e 10.\n",
        "    Você tem 3 tentativas!\n",
        "\n",
        "        Tentativa número 1\n",
        "        Chute um número: cinco\n",
        "        Ops! Digite um valor válido ...\n",
        "        Mensagem de erro: invalid literal for int() with base 10: 'cinco'\n",
        "\n",
        "        Tentativa número 1\n",
        "        Chute um número: 5\n",
        "        Chute muito baixo!\n",
        "\n",
        "        Tentativa número 2\n",
        "        Chute um número: 10\n",
        "        Chute muito alto!\n",
        "\n",
        "        Tentativa número 3\n",
        "        Chute um número: 8\n",
        "\n",
        "    Parabéns! Você acertou o número 8!\n",
        "    Fim de jogo!"
      ],
      "metadata": {
        "id": "UvytehlI1MUA"
      }
    },
    {
      "cell_type": "markdown",
      "source": [
        "    Tente adivinhar o número entre 0 e 10.\n",
        "    Você tem 3 tentativas!\n",
        "\n",
        "        Tentativa número 1\n",
        "        Chute um número: 5\n",
        "        Chute muito baixo!\n",
        "\n",
        "        Tentativa número 2\n",
        "        Chute um número: 10\n",
        "        Chute muito alto!\n",
        "\n",
        "        Tentativa número 3\n",
        "        Chute um número: 6\n",
        "        Chute muito baixo!\n",
        "\n",
        "    Você gastou suas 3 tentativas!!! O número era 9.\n",
        "    Fim de jogo!"
      ],
      "metadata": {
        "id": "QT55L3tu1kD4"
      }
    },
    {
      "cell_type": "code",
      "source": [
        "from random import randint\n",
        "\n",
        "def jogo_adivinhacao(inicio: int, fim: int, n:int) -> None:\n",
        "\n",
        "    # Condições de execução (opcional)\n",
        "    assert isinstance(inicio, int), \"Valor de início dado {inicio}deve ser inteiro!\"\n",
        "    assert isinstance(fim, int), \"Valor de fim deve ser inteiro!\"\n",
        "    assert fim > inicio, \"O valor de fim deve ser maior que o valor de início!\"\n",
        "\n",
        "    # Mensagen iniciais\n",
        "    print(f\"Tente adivinhar o número entre {inicio} e {fim}.\")\n",
        "    print(f\"Você tem {n} tentativas!\")\n",
        "\n",
        "    # Gera um número inteiro aleatório\n",
        "    num: int = randint(inicio, fim)\n",
        "    print(f\"Número secreto para testar o código: {num}\")\n",
        "\n",
        "    # Inicializa o número de tentativas\n",
        "    cont: int = 1\n",
        "\n",
        "    # Loop para gerar o jogo\n",
        "    while cont <= n:\n",
        "\n",
        "        print(f\"\\n\\tTentativa número {cont}\")\n",
        "\n",
        "        try:\n",
        "            chute: int = int(input(\"\\tChute um número: \"))\n",
        "        except ValueError as e:\n",
        "            print(\"\\tOps! Digite um valor válido ...\")\n",
        "            print(f\"\\tMensagem de erro: {e}\")\n",
        "            continue\n",
        "\n",
        "        dif = abs(chute - num)\n",
        "\n",
        "        if dif == 0:\n",
        "            print(f\"\\nParabéns! Você acertou o número {num}!\")\n",
        "            break\n",
        "        elif dif < 2:\n",
        "            print(\"\\tEstá muito quente!\")\n",
        "        elif dif < 4:\n",
        "            print(\"\\tEstá quente!\")\n",
        "        elif dif < 6:\n",
        "            print(\"\\tEstá frio!\")\n",
        "        else:\n",
        "            print(\"\\tEstá muito frio!\")\n",
        "\n",
        "        cont+= 1\n",
        "\n",
        "    if chute != num:\n",
        "        print(f\"\\nVocê gastou suas {cont-1} tentativas!!! O número era {num}.\")\n",
        "\n",
        "    print(f\"Fim de jogo!\")\n",
        "\n",
        "def main() -> None:\n",
        "    inicio = 0\n",
        "    fim = 10\n",
        "    n = 5\n",
        "    jogo_adivinhacao(inicio, fim, n)\n",
        "\n",
        "if __name__ == \"__main__\":\n",
        "    main()"
      ],
      "metadata": {
        "id": "yLYgZhLNKA4C",
        "colab": {
          "base_uri": "https://localhost:8080/"
        },
        "outputId": "4442f8bd-afed-4995-9b30-b16d7fa0d885"
      },
      "execution_count": null,
      "outputs": [
        {
          "output_type": "stream",
          "name": "stdout",
          "text": [
            "Tente adivinhar o número entre 0 e 10.\n",
            "Você tem 5 tentativas!\n",
            "Número secreto para testar o código: 6\n",
            "\n",
            "\tTentativa número 1\n",
            "\tChute um número: 0\n",
            "\tEstá muito frio!\n",
            "\n",
            "\tTentativa número 2\n",
            "\tChute um número: 1\n",
            "\tEstá frio!\n",
            "\n",
            "\tTentativa número 3\n",
            "\tChute um número: 2\n",
            "\tEstá frio!\n",
            "\n",
            "\tTentativa número 4\n",
            "\tChute um número: 3\n",
            "\tEstá quente!\n",
            "\n",
            "\tTentativa número 5\n",
            "\tChute um número: 4\n",
            "\tEstá quente!\n",
            "\n",
            "Você gastou suas 5 tentativas!!! O número era 6.\n",
            "Fim de jogo!\n"
          ]
        }
      ]
    },
    {
      "cell_type": "markdown",
      "source": [
        "# Questão 02 (4 pontos)"
      ],
      "metadata": {
        "id": "aZ4iy-kOmRbl"
      }
    },
    {
      "cell_type": "markdown",
      "source": [
        "Considere que você está desenvolvendo um programa para calcular e analisar as notas de cinco (5) alunos matriculados nas disciplinas de Raciocínio Lógico Algorítimico (RLA) e Matemática para Computação (MAT). As notas são armazenadas em vetores correspondentes aos alunos, onde cada elemento do vetor representa a nota de um determinado aluno."
      ],
      "metadata": {
        "id": "Xhv1JLAP93N6"
      }
    },
    {
      "cell_type": "markdown",
      "source": [
        "## Estratégia"
      ],
      "metadata": {
        "id": "3x1Ch2Nr-0vJ"
      }
    },
    {
      "cell_type": "markdown",
      "source": [
        "1. Implemente a função `preencher_notas` com apenas um parâmetro: o **número de alunos**. Esta função simula o preenchimento do vetor com as notas dos alunos por disciplina, permitindo que o **usuário insira manualmente as notas** durante a execução do programa. O retorno dessa função é uma única lista (vetor) preenchida com as notas (1 ponto).\n",
        "\n",
        "2. Implemente a função `contar_aprovados` com um único parâmetro: **uma lista de notas**. Esta função conta os alunos aprovados da disciplina. O retorno dessa função é um inteiro (1 ponto).\n",
        "\n",
        "3. Implemente a função `diferenca_notas` com dois parâmetros: **as notas de RLA e as notas de MAT**. Esta função retorna as diferenças entre as notas dos alunos nas respectivas disciplinas. O retorno dessa função é uma lista de inteiros (1 ponto).\n",
        "\n",
        "4. Implemente a função `aluno_maior_diferenca` com um parâmetro: **a lista de diferenças de notas**. Esta função define o aluno que possui a maior diferença entre as notas das disciplinas. O retorno dessa função é um inteiro (1 ponto).\n",
        "\n",
        "5. Implemente a função `main` sem parâmetros e sem retorno que define as variáveis de entrada e imprime as saídas das funções 1, 2, 3 e 4.\n",
        "\n",
        "**Observação**: O uso das funções `append(), max()` e `min()` está proibido para garantir que os cálculos sejam realizados conforme especificado."
      ],
      "metadata": {
        "id": "bH8Eg3LmAaLF"
      }
    },
    {
      "cell_type": "markdown",
      "source": [
        "## Entradas obrigatórias"
      ],
      "metadata": {
        "id": "ND6mC4x00tRY"
      }
    },
    {
      "cell_type": "markdown",
      "source": [
        "**Notas dos alunos na disciplina de RLA**\n",
        "\n",
        "| Aluno1  | Aluno2  | Aluno3  | Aluno4  | Aluno5  |\n",
        "| --      | --      | --      | --      | --      |\n",
        "| 5.5     | 8.0     | 6.5     | 8.5     | 4.0     |\n",
        "\n",
        "**Notas dos alunos na disciplina de MAT**\n",
        "\n",
        "| Aluno1  | Aluno2  | Aluno3  | Aluno4  | Aluno5  |\n",
        "| --      | --      | --      | --      | --      |\n",
        "| 8.0     | 7.0     | 7.0     | 9.5     | 5.5     |"
      ],
      "metadata": {
        "id": "2_9jCvjd0v66"
      }
    },
    {
      "cell_type": "markdown",
      "source": [
        "## Saídas esperadas"
      ],
      "metadata": {
        "id": "a8UNQWDz1U9Y"
      }
    },
    {
      "cell_type": "markdown",
      "source": [
        "Entrada das notas de RLA:\n",
        "Digite a nota do aluno 1: 5.5\n",
        "Digite a nota do aluno 2: 8\n",
        "Digite a nota do aluno 3: 6.5\n",
        "Digite a nota do aluno 4: 8.5\n",
        "Digite a nota do aluno 5: 4\n",
        "\n",
        "Entrada das notas de MAT:\n",
        "Digite a nota do aluno 1: 8\n",
        "Digite a nota do aluno 2: 7\n",
        "Digite a nota do aluno 3: 7\n",
        "Digite a nota do aluno 4: 9.5\n",
        "Digite a nota do aluno 5: 5.5\n",
        "\n",
        "Notas dos alunos nas disciplinas:\n",
        "RLA: 5.5 8.0 6.5 8.5 4.0\n",
        "MAT: 8.0 7.0 7.0 9.5 5.5\n",
        "\n",
        "Aprovados RLA: 4 alunos\n",
        "Aprovador MAT: 5 alunos\n",
        "\n",
        "Diferenças entre as disciplinas: 2.5 1.0 0.5 1.0 1.5\n",
        "\n",
        "Aluno com a maior diferença: 1"
      ],
      "metadata": {
        "id": "aTiYGgaX1XKB"
      }
    },
    {
      "cell_type": "code",
      "source": [
        "def preencher_notas(n: int) -> list[int]:\n",
        "    \"\"\"\n",
        "    Simula o preenchimento do vetor com as notas dos alunos em cada disicplina,\n",
        "    permitindo que o usuário insira manualmente as notas durante a execução\n",
        "    do programa.\n",
        "    \"\"\"\n",
        "    # Inicializa uma lista para armazenar as pontuações\n",
        "    vec: list[int] = [0] * n\n",
        "\n",
        "    # Simula o preenchimento dos vetores com as pontuações dos jogadores A e B\n",
        "    for i in range(n):\n",
        "        vec[i] = float(input(f\"Digite a nota do aluno {i+1}: \"))\n",
        "\n",
        "    return vec\n",
        "\n",
        "def contar_aprovados(notas: list[int]) -> int:\n",
        "    cont: int = 0\n",
        "    for nota in notas:\n",
        "        if nota >= 5 and nota <= 10:\n",
        "            cont += 1\n",
        "    return cont\n",
        "\n",
        "def diferenca_pontuacao(vec_a: list[int], vec_b: list[int]) -> list[int]:\n",
        "    \"\"\"\n",
        "    Esta função calcula as diferenças entre as notas dos alunos\n",
        "    nas respectivas partida.\n",
        "    \"\"\"\n",
        "    # Inicializa lista para armazenar as diferenças\n",
        "    n = len(vec_a)\n",
        "    vec_dif = [0] * n\n",
        "\n",
        "    # Calcula a diferença entre as pontuações e adicionar à lista\n",
        "    for i in range(n):\n",
        "        dif = vec_a[i] - vec_b[i]\n",
        "        vec_dif[i] = abs(dif)\n",
        "\n",
        "    return vec_dif\n",
        "\n",
        "def maior_diferenca(v: list[float]) -> float:\n",
        "    idx = 0\n",
        "    maior: float = v[idx]\n",
        "    n = len(v)\n",
        "    for i in range(1, n):\n",
        "        if v[i] > maior:\n",
        "            maior = v[i]\n",
        "            idx = i\n",
        "    return idx\n",
        "\n",
        "def imprimir(vec, nome=None):\n",
        "    if nome:\n",
        "        print(f\"{nome}:\", end=\" \")\n",
        "\n",
        "    for k in vec:\n",
        "        print(k, end= \" \")\n",
        "    print()\n",
        "\n",
        "def main() -> None:\n",
        "    # Preenchimento do vetor com as pontuações\n",
        "    print(\"Entrada das notas de RLA:\")\n",
        "    n_alunos = 5\n",
        "    vec_rla = preencher_notas(n_alunos)\n",
        "\n",
        "    print(\"\\nEntrada das notas de MAT:\")\n",
        "    vec_mat = preencher_notas(n_alunos)\n",
        "\n",
        "    print(\"\\nNotas dos alunos nas disciplinas:\")\n",
        "    imprimir(vec_rla, \"RLA\")\n",
        "    imprimir(vec_mat, \"MAT\")\n",
        "\n",
        "    # Contagem dos alunos aprovados por disciplina\n",
        "    rla_aprov = contar_aprovados(vec_rla)\n",
        "    mat_aprov = contar_aprovados(vec_mat)\n",
        "    print(f\"\\nAprovados RLA: {rla_aprov} alunos\")\n",
        "    print(f\"Aprovador MAT: {mat_aprov} alunos\")\n",
        "\n",
        "    # Diferença entre as respectivas disicplinas\n",
        "    vec_dif = diferenca_pontuacao(vec_rla,vec_mat)\n",
        "\n",
        "    print(\"\\nDiferenças entre as disciplinas:\", end=\" \")\n",
        "    imprimir(vec_dif)\n",
        "\n",
        "    # Diferença entre todas as partidas\n",
        "    aluno_maior_dif = maior_diferenca(vec_dif)\n",
        "    print(f\"\\nAluno com a maior diferença: {aluno_maior_dif+1}\")\n",
        "\n",
        "if __name__ == \"__main__\":\n",
        "    main()"
      ],
      "metadata": {
        "id": "W56QC1W5z6Pe",
        "colab": {
          "base_uri": "https://localhost:8080/"
        },
        "outputId": "d03e62f3-9581-44e7-8833-1ead4f422002"
      },
      "execution_count": null,
      "outputs": [
        {
          "output_type": "stream",
          "name": "stdout",
          "text": [
            "Entrada das notas de RLA:\n",
            "Digite a nota do aluno 1: 5.5\n",
            "Digite a nota do aluno 2: 8\n",
            "Digite a nota do aluno 3: 6.5\n",
            "Digite a nota do aluno 4: 8.5\n",
            "Digite a nota do aluno 5: 4\n",
            "\n",
            "Entrada das notas de MAT:\n",
            "Digite a nota do aluno 1: 8\n",
            "Digite a nota do aluno 2: 7\n",
            "Digite a nota do aluno 3: 7\n",
            "Digite a nota do aluno 4: 9.5\n",
            "Digite a nota do aluno 5: 5.5\n",
            "\n",
            "Notas dos alunos nas disciplinas:\n",
            "RLA: 5.5 8.0 6.5 8.5 4.0 \n",
            "MAT: 8.0 7.0 7.0 9.5 5.5 \n",
            "\n",
            "Aprovados RLA: 4 alunos\n",
            "Aprovador MAT: 5 alunos\n",
            "\n",
            "Diferenças entre as disciplinas: 2.5 1.0 0.5 1.0 1.5 \n",
            "\n",
            "Aluno com a maior diferença: 1\n"
          ]
        }
      ]
    }
  ]
}

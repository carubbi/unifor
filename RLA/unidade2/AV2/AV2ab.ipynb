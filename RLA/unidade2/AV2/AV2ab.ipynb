{
  "nbformat": 4,
  "nbformat_minor": 0,
  "metadata": {
    "colab": {
      "provenance": []
    },
    "kernelspec": {
      "name": "python3",
      "display_name": "Python 3"
    },
    "language_info": {
      "name": "python"
    }
  },
  "cells": [
    {
      "cell_type": "markdown",
      "source": [
        "<img src=\"https://drive.google.com/uc?id=1SOzRTjUt7cuBJpSqoK90fcAiKBrnpUJo\" width=\"400\">\n",
        "\n",
        "**Data:** preencha com a data de envio <br>\n",
        "**Aluno(a):** preencha com seus dados <br>\n",
        "**Matrícula:** preencha com seus dados <br>\n",
        "**Turma**: preencha com seus dados <br>"
      ],
      "metadata": {
        "id": "02Dckeirosf4"
      }
    },
    {
      "cell_type": "markdown",
      "source": [
        "# **Instruções para resolução da prova**"
      ],
      "metadata": {
        "id": "N2uKR4xqqhFP"
      }
    },
    {
      "cell_type": "markdown",
      "source": [
        "1. A duração da prova é de 1:40h;\n",
        "2. A tolerância de entrada é de 30 min após o início da prova. Se um aluno terminar a prova em menos de 30min, deverá aguardar em sala antes de entregar a prova e sair de sala;\n",
        "3. A prova é sem consulta a professores ou a qualquer tipo de material. A interpretação dos enunciados faz parte da prova;\n",
        "4. Não é permitido o uso de celular ou quaisquer dispositivos de comunicação como smartwatch e similares. Estes dispositivos devem estar desligados e fora do alcance durante a prova. A utilização destes dispositivos, sob quaisquer circunstâncias, acarretará na anulação da prova;\n",
        "5. A prova será desenvolvida apenas no ambiente do Google Colab e logado com o e-mail institucional do aluno. A violação desta regra acarretará na anulação da prova;\n",
        "6. A prova será validada apenas se o aluno estiver presente em sala de aula. A alteração do envio no AVA após a aplicação da prova, acarretará na anulação da mesma;\n",
        "7. No início do seu notebbok, preencha a data, seu nome completo, sua matrícula e sua turma;\n",
        "8. **Ao terminar a prova, chame o professor para autorizar individualmente o envio do arquivo através do AVA. O AVA estará liberado para todos os alunos apenas 10 minutos antes do término da prova**\n",
        "9. O nome do arquivo deve ser AV2 seguido por nome e matrícula. Exemplo: AV2-MARIA-1012983.ipynb;\n",
        "10. O notebook deverá ser enviado através do AVA até o final do horário estipulado para a realização da prova.\n",
        "11. Não será considerada a prova enviada após o limite horário estabelecido ou entrega através do AVA;\n",
        "12. A lista de entrega da AV2 deverá ser assinada após o envio através do AVA."
      ],
      "metadata": {
        "id": "T4w8XE8TKBz-"
      }
    },
    {
      "cell_type": "markdown",
      "source": [
        "# Questão 01 (6 pontos)"
      ],
      "metadata": {
        "id": "nUVcPvg5MSCi"
      }
    },
    {
      "cell_type": "markdown",
      "source": [
        "Desenvolva um programa para um jogo de adivinhação. O programa deve gerar aleatoriamente um número inteiro entre um valor mínimo e máximo definidos pelo usuário. O jogador terá um número limitado de tentativas para adivinhar o número gerado pelo programa. Após cada tentativa do jogador, o programa deve informar se o número número fornecido pelo jogador é maior ou menor ao número aleatório. O jogo continuará até que o jogador adivinhe corretamente o número aleatório ou esgote todas as tentativas."
      ],
      "metadata": {
        "id": "Hzvk1nBcMWTT"
      }
    },
    {
      "cell_type": "markdown",
      "source": [
        "## Estratégia"
      ],
      "metadata": {
        "id": "7HHcihQZMpjB"
      }
    },
    {
      "cell_type": "markdown",
      "source": [
        "1. **Defina os Parâmetros Iniciais:**\n",
        "   - Defina o intervalo de números no qual o jogador poderá adivinhar, ou seja, os parâmetros `inicio` e `fim`.\n",
        "   - Determine o número máximo de tentativas que o jogador terá, ou seja, o parâmetro `tentativas_feitas`.\n",
        "\n",
        "2. **Importe a Biblioteca:** (0,5 ponto)\n",
        "   - Importe a função da biblioteca ou apenas a função necessária para gerar um número aleatório dentro do intervalo definido.\n",
        "\n",
        "3. **Crie a Função `jogo_adivinhacao`:** (0,5 ponto)\n",
        "   - Crie uma função chamada `jogo_adivinhacao` que aceita os parâmetros do `início`, `fim` e `tentativas_feitas`.\n",
        "   - Dentro da função, gere um número aleatório usando a função importada e armazene-o na variável `numero_secreto`.\n",
        "   \n",
        "4. **Versões:**\n",
        "\n",
        "   **T160-39 / T998-31: Implemente a Lógica do Jogo no Loop:** (2,5 pontos)\n",
        "   - Inicialize uma variável para contar o número de tentativas do jogador (por exemplo, `tentativas_feitas`).\n",
        "   - Use um loop `while` para controlar o jogo e permitir que o jogador faça um número limitado de tentativas.\n",
        "   - Dentro do loop, solicite ao jogador que faça uma tentativa para adivinhar o número secreto.\n",
        "   - Compare a tentativa do jogador com o número aleatório gerado (`numero_secreto`) e forneça feedback ao jogador (se o número é maior, menor ou igual).\n",
        "   - Incremente a variável `tentativas_feitas` a cada tentativa.\n",
        "\n",
        "   **T160-60 / T160-80: Implemente a lógica do jogo no loop:** (2,5 pontos)\n",
        "   - Inicialize a variável `cont` para contar o número de tentativas do jogador.\n",
        "   - Use um loop `while` para controlar o jogo e permitir que o jogador faça um número limitado de tentativas usando as variáveis `cont` e `n_tentativas`.\n",
        "   - Dentro do loop, solicite ao jogador que faça uma tentativa para adivinhar o número secreto.\n",
        "   - Compare a tentativa do jogador com o número aleatório gerado (`numero_secreto`) e forneça feedback ao jogador, conforme a diferença absoluta entre numero secreto e o chute:\n",
        "        - se for zero, imprima \"Parabéns! Você acertou o número `numero_secreto`!\"\n",
        "        - se for menor que 2, imprima \"Muito quente!\"\n",
        "        - se for menor que 4, imprima \"Quente!\"\n",
        "        - se for maior que 2 e menor que 6, imprima \"Frio!\"\n",
        "        - se não for nenhuma das condições\n",
        "\n",
        "5. **Adicione Tratamento de Erros:** (1 ponto)\n",
        "   - Use uma estrutura de controle de exceções para lidar com possíveis erros de entrada do jogador, como quando o jogador digita algo que não é um número, por exemplo um `string` \"cinco\".\n",
        "   - Se ocorrer um erro, exiba uma mensagem de erro e continue o loop para a próxima tentativa.\n",
        "\n",
        "6. **Finalize o Jogo:** (1 ponto)\n",
        "   - Interrompa o loop, caso verifique que o jogador acertou o número (`numero_secreto`) com mensagens de parabẽns.\n",
        "   - Caso o jogador não acerte o número secreto, forneça ao jogador as tenativas feitas e o número secreto.\n",
        "   - Finalize o jogo exibindo uma mensagem de fim de jogo.\n",
        "\n",
        "7. **Crie a Função `main`:** (0,5 ponto)\n",
        "   - Crie uma função `main` que define os parâmetros iniciais do jogo (início, fim e número de tentativas) e chame a função `jogo_adivinhacao` com esses parâmetros.\n",
        "\n",
        "8. **Chame a Função `main`:**\n",
        "   - No final do script, verifique se o script está sendo executado como o programa principal (`if __name__ == \"__main__\":`) e, se sim, chame a função `main` para iniciar o jogo."
      ],
      "metadata": {
        "id": "cCqmcCdUgnNo"
      }
    },
    {
      "cell_type": "markdown",
      "source": [
        "## Testes obrigatórios"
      ],
      "metadata": {
        "id": "UNbGrLhywIua"
      }
    },
    {
      "cell_type": "markdown",
      "source": [
        "Teste todos as possíveis condições do programa, ou seja, mensagem de erro por entrada inválida, valores inferiores, superiores e iguais ao número secreto e limite de tentativas."
      ],
      "metadata": {
        "id": "rQdbMsJNwKj_"
      }
    },
    {
      "cell_type": "markdown",
      "source": [
        "## Saídas de exemplo"
      ],
      "metadata": {
        "id": "7Ypp8AI01I_0"
      }
    },
    {
      "cell_type": "markdown",
      "source": [
        "    Tente adivinhar o número entre 0 e 10.\n",
        "    Você tem 3 tentativas!\n",
        "\n",
        "        Tentativa número 1\n",
        "        Chute um número: cinco\n",
        "        Ops! Digite um valor válido ...\n",
        "        Mensagem de erro: invalid literal for int() with base 10: 'cinco'\n",
        "\n",
        "        Tentativa número 1\n",
        "        Chute um número: 5\n",
        "        Chute muito baixo!\n",
        "\n",
        "        Tentativa número 2\n",
        "        Chute um número: 10\n",
        "        Chute muito alto!\n",
        "\n",
        "        Tentativa número 3\n",
        "        Chute um número: 8\n",
        "\n",
        "    Parabéns! Você acertou o número 8!\n",
        "    Fim de jogo!"
      ],
      "metadata": {
        "id": "UvytehlI1MUA"
      }
    },
    {
      "cell_type": "markdown",
      "source": [
        "    Tente adivinhar o número entre 0 e 10.\n",
        "    Você tem 3 tentativas!\n",
        "\n",
        "        Tentativa número 1\n",
        "        Chute um número: 5\n",
        "        Chute muito baixo!\n",
        "\n",
        "        Tentativa número 2\n",
        "        Chute um número: 10\n",
        "        Chute muito alto!\n",
        "\n",
        "        Tentativa número 3\n",
        "        Chute um número: 6\n",
        "        Chute muito baixo!\n",
        "\n",
        "    Você gastou suas 3 tentativas!!! O número era 9.\n",
        "    Fim de jogo!"
      ],
      "metadata": {
        "id": "QT55L3tu1kD4"
      }
    },
    {
      "cell_type": "markdown",
      "source": [
        "## Implementação T160-39 / T998-31"
      ],
      "metadata": {
        "id": "UmjizgjIe15x"
      }
    },
    {
      "cell_type": "code",
      "source": [
        "from random import randint\n",
        "\n",
        "def jogo_adivinhacao(inicio: int, fim: int, n:int) -> None:\n",
        "\n",
        "    # Condições de execução (não obrigatório)\n",
        "    assert isinstance(inicio, int), \"Valor de início deve ser inteiro!\"\n",
        "    assert isinstance(fim, int), \"Valor de fim deve ser inteiro!\"\n",
        "    assert fim > inicio, \"O valor de fim deve ser maior que o valor de início!\"\n",
        "\n",
        "\n",
        "    # Mensagen iniciais\n",
        "    print(f\"Tente adivinhar o número entre {inicio} e {fim}.\")\n",
        "    print(f\"Você tem {n} tentativas!\")\n",
        "\n",
        "    # Gera um número inteiro aleatório\n",
        "    num: int = randint(inicio, fim)\n",
        "    print(f\"Número secreto para testar o código: {num}\")\n",
        "\n",
        "\n",
        "    # Inicializa o número de tentativas\n",
        "    cont: int = 1\n",
        "\n",
        "    # Loop para gerar o jogo\n",
        "    while cont <= n:\n",
        "\n",
        "        print(f\"\\n\\tTentativa número {cont}\")\n",
        "\n",
        "        try:\n",
        "            chute: int = int(input(\"\\tChute um número: \"))\n",
        "        except ValueError as e:\n",
        "            print(\"\\tOps! Digite um valor válido ...\")\n",
        "            print(f\"\\tMensagem de erro: {e}\")\n",
        "            continue\n",
        "\n",
        "        if chute < num:\n",
        "            print(\"\\tChute muito baixo!\")\n",
        "        elif chute > num:\n",
        "            print(\"\\tChute muito alto!\")\n",
        "        else:\n",
        "            print(f\"\\nParabéns! Você acertou o número {num}!\")\n",
        "            break\n",
        "\n",
        "        cont+= 1\n",
        "\n",
        "    if chute != num:\n",
        "        print(f\"\\nVocê gastou suas {cont-1} tentativas!!! O número era {num}.\")\n",
        "\n",
        "    print(f\"Fim de jogo!\")\n",
        "\n",
        "def main() -> None:\n",
        "    inicio: int = 0\n",
        "    fim: int = 10\n",
        "    n: int = 3\n",
        "    jogo_adivinhacao(inicio, fim, n)\n",
        "\n",
        "if __name__ == \"__main__\":\n",
        "    main()"
      ],
      "metadata": {
        "id": "bs7y_VbQMVm9",
        "colab": {
          "base_uri": "https://localhost:8080/"
        },
        "outputId": "1b96c1c0-e8d3-44fa-adc9-bbb4f19e97f5"
      },
      "execution_count": null,
      "outputs": [
        {
          "output_type": "stream",
          "name": "stdout",
          "text": [
            "Tente adivinhar o número entre 0 e 10.\n",
            "Você tem 3 tentativas!\n",
            "\n",
            "\tTentativa número 1\n",
            "\tChute um número: cinco\n",
            "\tOps! Digite um valor válido ...\n",
            "\tMensagem de erro: invalid literal for int() with base 10: 'cinco'\n",
            "\n",
            "\tTentativa número 1\n",
            "\tChute um número: 5\n",
            "\tChute muito alto!\n",
            "\n",
            "\tTentativa número 2\n",
            "\tChute um número: 2\n",
            "\tChute muito baixo!\n",
            "\n",
            "\tTentativa número 3\n",
            "\tChute um número: 3\n",
            "\n",
            "Parabéns! Você acertou o número 3!\n",
            "Fim de jogo!\n"
          ]
        }
      ]
    },
    {
      "cell_type": "markdown",
      "source": [
        "## Implementação T160-60 / T160-80"
      ],
      "metadata": {
        "id": "qLelzJpndcgk"
      }
    },
    {
      "cell_type": "code",
      "source": [
        "from random import randint\n",
        "\n",
        "def jogo_adivinhacao(inicio: int, fim: int, n:int) -> None:\n",
        "\n",
        "    # Condições de execução (opcional)\n",
        "    assert isinstance(inicio, int), \"Valor de início dado deve ser inteiro!\"\n",
        "    assert isinstance(fim, int), \"Valor de fim deve ser inteiro!\"\n",
        "    assert fim > inicio, \"O valor de fim deve ser maior que o valor de início!\"\n",
        "\n",
        "    # Mensagen iniciais\n",
        "    print(f\"Tente adivinhar o número entre {inicio} e {fim}.\")\n",
        "    print(f\"Você tem {n} tentativas!\")\n",
        "\n",
        "    # Gera um número inteiro aleatório\n",
        "    num: int = randint(inicio, fim)\n",
        "    print(f\"Número secreto para testar o código: {num}\")\n",
        "\n",
        "    # Inicializa o número de tentativas\n",
        "    cont: int = 1\n",
        "\n",
        "    # Loop para gerar o jogo\n",
        "    while cont <= n:\n",
        "\n",
        "        print(f\"\\n\\tTentativa número {cont}\")\n",
        "\n",
        "        try:\n",
        "            chute: int = int(input(\"\\tChute um número: \"))\n",
        "        except ValueError as e:\n",
        "            print(\"\\tOps! Digite um valor válido ...\")\n",
        "            print(f\"\\tMensagem de erro: {e}\")\n",
        "            continue\n",
        "\n",
        "        dif = abs(chute - num)\n",
        "        # dif = chute - num\n",
        "        # if dif < 0:\n",
        "        #     dif = -1 * dif\n",
        "\n",
        "        if dif == 0:\n",
        "            print(f\"\\nParabéns! Você acertou o número {num}!\")\n",
        "            break\n",
        "        elif dif < 2:\n",
        "            print(\"\\tEstá muito quente!\")\n",
        "        elif dif < 4:\n",
        "            print(\"\\tEstá quente!\")\n",
        "        elif dif < 6:\n",
        "            print(\"\\tEstá frio!\")\n",
        "        else:\n",
        "            print(\"\\tEstá muito frio!\")\n",
        "\n",
        "        cont+= 1\n",
        "\n",
        "    if chute != num:\n",
        "        print(f\"\\nVocê gastou suas {cont-1} tentativas!!! O número era {num}.\")\n",
        "\n",
        "    print(f\"Fim de jogo!\")\n",
        "\n",
        "def main() -> None:\n",
        "    inicio = 0\n",
        "    fim = 10\n",
        "    n = 3\n",
        "    jogo_adivinhacao(inicio, fim, n)\n",
        "\n",
        "if __name__ == \"__main__\":\n",
        "    main()"
      ],
      "metadata": {
        "colab": {
          "base_uri": "https://localhost:8080/"
        },
        "id": "yLYgZhLNKA4C",
        "outputId": "c714d5cf-6969-486c-e863-12e532cf9db3"
      },
      "execution_count": null,
      "outputs": [
        {
          "output_type": "stream",
          "name": "stdout",
          "text": [
            "Tente adivinhar o número entre 10 e 50.\n",
            "Você tem 5 tentativas!\n",
            "Número secreto para testar o código: 16\n",
            "\n",
            "\tTentativa número 1\n",
            "\tChute um número: vinte\n",
            "\tOps! Digite um valor válido ...\n",
            "\tMensagem de erro: invalid literal for int() with base 10: 'vinte'\n",
            "\n",
            "\tTentativa número 1\n",
            "\tChute um número: 20\n",
            "\tEstá frio!\n",
            "\n",
            "\tTentativa número 2\n",
            "\tChute um número: 18\n",
            "\tEstá quente!\n",
            "\n",
            "\tTentativa número 3\n",
            "\tChute um número: 17\n",
            "\tEstá muito quente!\n",
            "\n",
            "\tTentativa número 4\n",
            "\tChute um número: 16\n",
            "\n",
            "Parabéns! Você acertou o número 16!\n",
            "Fim de jogo!\n"
          ]
        }
      ]
    },
    {
      "cell_type": "markdown",
      "source": [
        "# Questão 02 (4 pontos)"
      ],
      "metadata": {
        "id": "aZ4iy-kOmRbl"
      }
    },
    {
      "cell_type": "markdown",
      "source": [
        "Considere que você está desenvolvendo um programa para calcular e analisar as pontuações de dois jogadores, A e B, ao longo de uma série de partidas. As pontuações são armazenadas em vetores correspondentes aos jogadores, onde cada elemento do vetor representa a pontuação em uma partida específica."
      ],
      "metadata": {
        "id": "Xhv1JLAP93N6"
      }
    },
    {
      "cell_type": "markdown",
      "source": [
        "## Estratégia"
      ],
      "metadata": {
        "id": "3x1Ch2Nr-0vJ"
      }
    },
    {
      "cell_type": "markdown",
      "source": [
        "1. Implemente a função `preencher_pontuacoes` com apenas um parâmetro: o **número de partidas**. Esta função simula o preenchimento do vetor com as pontuações do jogador em cada partida, permitindo que o **usuário insira manualmente as pontuações** durante a execução do programa. O retorno dessa função é a lista (vetor) preenchida com as pontuações (1 pontos).\n",
        "\n",
        "2. Implemente a função `revisar_pontuacao` com três parâmetros: **a lista de pontuações, posição da partida a ser revisada e a pontuação revisada**. Esta função função retorna a lista de pontuações com a pontuação na posição especificada revisada (0,5 ponto).\n",
        "\n",
        "3. Implemente a função `diferenca_pontuacao` com dois parâmetros: **as pontuações do jogador A e as pontuações do jogador B**. Esta função retorna as diferenças entre as pontuações dos jogadores A e B nas respectivas partidas (1 ponto).\n",
        "\n",
        "4. Implemente a função `maior_diferenca` com dois parâmetros: **as pontuações do jogador A e as pontuações do jogador B**. Esta função percorre **todas as combinações de pontuações possíveis** entre os jogadores A e B e retorna a maior diferença absoluta entre elas (1 ponto).\n",
        "\n",
        "5. Implemente a função `main` sem parâmetros e sem retorno que define as variáveis de entrada e imprime as saídas das funções 1, 2, 3 e 4 (0,5 ponto).\n",
        "\n",
        "**Observação**: O uso das funções `max()` e `min()` está proibido para garantir que os cálculos sejam realizados conforme especificado."
      ],
      "metadata": {
        "id": "bH8Eg3LmAaLF"
      }
    },
    {
      "cell_type": "markdown",
      "source": [
        "## Entradas obrigatórias"
      ],
      "metadata": {
        "id": "ND6mC4x00tRY"
      }
    },
    {
      "cell_type": "markdown",
      "source": [
        "**Pontuações do jogador A em cada partida P**\n",
        "\n",
        "| P1  | P2  | P3  | P4  | P5  | P6  | P7  | P8  | P9  | P10 |\n",
        "| --  | --  | --  | --  | --  | --  | --  | --  | --  | --  |\n",
        "| 349 | 458 | 133 | 230 | 192 | 324 | 427 | 389 | 184 | 237 |\n",
        "\n",
        "**Pontuações do jogador B em cada partida P**\n",
        "\n",
        "| P1  | P2  | P3  | P4  | P5  | P6  | P7  | P8  | P9  | P10 |\n",
        "| --  | --  | --  | --  | --  | --  | --  | --  | --  | --  |\n",
        "| 436 | 448 | 294 | 421 | 209 | 487 | 484 | 252 | 396 | 374 |\n",
        "\n",
        "**Revisão das pontuações (T160-39 / T998-31):**\n",
        "\n",
        "| Jogador | Partida | Revisão |\n",
        "| --      | --      | --      |\n",
        "| A       | 8       | 388     |\n",
        "| B       | 10      | 370     |\n",
        "\n",
        "**Revisão das pontuações (T160-60 / T160-80):**\n",
        "\n",
        "| Jogador | Partida | Revisão |\n",
        "| --      | --      | --      |\n",
        "| A       | 10      | 388     |\n",
        "| B       | 8       | 370     |"
      ],
      "metadata": {
        "id": "2_9jCvjd0v66"
      }
    },
    {
      "cell_type": "markdown",
      "source": [
        "## Saídas esperadas"
      ],
      "metadata": {
        "id": "a8UNQWDz1U9Y"
      }
    },
    {
      "cell_type": "markdown",
      "source": [
        "Entrada das pontuações do jogador A: <br>\n",
        "Digite a pontuação na partida 1: 349 <br>\n",
        "Digite a pontuação na partida 2: 458 <br>\n",
        "Digite a pontuação na partida 3: 133 <br>\n",
        "Digite a pontuação na partida 4: 230 <br>\n",
        "Digite a pontuação na partida 5: 192 <br>\n",
        "Digite a pontuação na partida 6: 324 <br>\n",
        "Digite a pontuação na partida 7: 427 <br>\n",
        "Digite a pontuação na partida 8: 389 <br>\n",
        "Digite a pontuação na partida 9: 184 <br>\n",
        "Digite a pontuação na partida 10: 237 <br>\n",
        "\n",
        "Entrada das pontuações do jogador B: <br>\n",
        "Digite a pontuação na partida 1: 436 <br>\n",
        "Digite a pontuação na partida 2: 448 <br>\n",
        "Digite a pontuação na partida 3: 294 <br>\n",
        "Digite a pontuação na partida 4: 421 <br>\n",
        "Digite a pontuação na partida 5: 209 <br>\n",
        "Digite a pontuação na partida 6: 487 <br>\n",
        "Digite a pontuação na partida 7: 484 <br>\n",
        "Digite a pontuação na partida 8: 252 <br>\n",
        "Digite a pontuação na partida 9: 396 <br>\n",
        "Digite a pontuação na partida 10: 374 <br>\n",
        "\n",
        "Pontuações dos jogadores: <br>\n",
        "A: 349 458 133 230 192 324 427 389 184 237 <br>\n",
        "B: 436 448 294 421 209 487 484 252 396 374 <br>\n",
        "\n",
        "Pontuações finais dos jogadores: <br>\n",
        "A: 349 458 133 230 192 324 427 0 184 237 <br>\n",
        "B: 436 448 294 421 209 487 484 252 396 0 <br>\n",
        "\n",
        "Diferenças entre as partidas (pontos): 87 10 161 191 17 163 57 252 212 237\n",
        "\n",
        "Maior diferença entre todas as partidas: 487 pontos"
      ],
      "metadata": {
        "id": "aTiYGgaX1XKB"
      }
    },
    {
      "cell_type": "markdown",
      "source": [
        "## Implementação T160-39 / T998-31"
      ],
      "metadata": {
        "id": "mGqV4gZyz3GN"
      }
    },
    {
      "cell_type": "code",
      "source": [
        "def preencher_pontuacoes(n: int) -> list[int]:\n",
        "    \"\"\"\n",
        "    Simula o preenchimento do vetor com as pontuações do jogador em cada partida,\n",
        "    permitindo que o usuário insira manualmente as pontuações durante a execução\n",
        "    do programa.\n",
        "    \"\"\"\n",
        "    # Inicializa uma lista para armazenar as pontuações\n",
        "    vec: list[int] = [0] * n\n",
        "\n",
        "    # Simula o preenchimento dos vetores com as pontuações dos jogadores A e B\n",
        "    for i in range(n): # 0,1,2,...,9\n",
        "        vec[i] = int(input(f\"Digite a pontuação na partida {i+1}: \"))\n",
        "\n",
        "    return vec\n",
        "\n",
        "def revisar_pontuacao(vec: list[int], num_partida: int, valor: int):\n",
        "    \"\"\"Revisa a pontuação na posição especificada\"\"\"\n",
        "    vec[num_partida-1] = valor\n",
        "    return vec\n",
        "\n",
        "def diferenca_pontuacao(vec_a: list[int], vec_b: list[int]) -> list[int]:\n",
        "    \"\"\"\n",
        "    Esta função calcula as diferenças entre as pontuações dos jogadores A e B\n",
        "    nas respectivas partida.\n",
        "    \"\"\"\n",
        "    # Inicializa lista para armazenar as diferenças\n",
        "    n = len(vec_a)\n",
        "    vec_dif = [0] * n\n",
        "\n",
        "    # Calcula a diferença entre as pontuações e adicionar à lista\n",
        "    for i in range(n): # 0,1,2,...,9\n",
        "        dif = vec_a[i] - vec_b[i]\n",
        "        vec_dif[i] = abs(dif)\n",
        "        # if dif < 0:\n",
        "        #     dif = -dif\n",
        "        # vec_dif[i] = dif\n",
        "\n",
        "    return vec_dif\n",
        "\n",
        "def maior_diferenca(v: list[int]) -> int:\n",
        "    maior: float = v[0]\n",
        "    n = len(v)\n",
        "    for i in range(1, n):\n",
        "        if v[i] > maior:\n",
        "            maior = v[i]\n",
        "    return maior\n",
        "\n",
        "def imprimir(vec, nome=None):\n",
        "    if nome:\n",
        "        print(f\"{nome}:\", end=\" \")\n",
        "\n",
        "    for k in vec:\n",
        "        print(k, end= \" \")\n",
        "    print()\n",
        "\n",
        "def main() -> None:\n",
        "    # Preenchimento do vetor com as pontuações\n",
        "    print(\"Entrada das pontuações do jogador A:\")\n",
        "    vec_a = preencher_pontuacoes(10)\n",
        "\n",
        "    print(\"\\nEntrada das pontuações do jogador B:\")\n",
        "    vec_b = preencher_pontuacoes(10)\n",
        "\n",
        "    print(\"\\nPontuações dos jogadores:\")\n",
        "    imprimir(vec_a, \"A\")\n",
        "    imprimir(vec_b, \"B\")\n",
        "\n",
        "    # Revisão das pontuações T160-60 / T160-80\n",
        "    vec_a = revisar_pontuacao(vec_a, 8, 388)\n",
        "    vec_b = revisar_pontuacao(vec_b, 10, 370)\n",
        "\n",
        "    print(\"\\nPontuações finais dos jogadores (T160-60 / T160-80):\")\n",
        "    imprimir(vec_a, \"A\")\n",
        "    imprimir(vec_b, \"B\")\n",
        "\n",
        "    # Revisão das pontuações T160-39 / T998-31\n",
        "    vec_a = revisar_pontuacao(vec_a, 10, 388)\n",
        "    vec_b = revisar_pontuacao(vec_b, 8, 370)\n",
        "\n",
        "    print(\"\\nPontuações finais dos jogadores (T160-39 / T998-31):\")\n",
        "    imprimir(vec_a, \"A\")\n",
        "    imprimir(vec_b, \"B\")\n",
        "\n",
        "    # Diferença entre as respectivas partidas\n",
        "    vec_dif = diferenca_pontuacao(vec_a,vec_b)\n",
        "\n",
        "    print(\"\\nDiferenças entre as partidas (pontos):\", end=\" \")\n",
        "    imprimir(vec_dif)\n",
        "\n",
        "    # Diferença entre todas as partidas\n",
        "    maior_dif = maior_diferenca(vec_dif)\n",
        "    print(f\"\\nMaior diferença entre todas as partidas: {maior_dif} pontos\")\n",
        "\n",
        "if __name__ == \"__main__\":\n",
        "    main()"
      ],
      "metadata": {
        "id": "W56QC1W5z6Pe",
        "colab": {
          "base_uri": "https://localhost:8080/"
        },
        "outputId": "1061ce0a-0cde-47fa-f61c-f45904c88e43"
      },
      "execution_count": null,
      "outputs": [
        {
          "output_type": "stream",
          "name": "stdout",
          "text": [
            "Entrada das pontuações do jogador A:\n",
            "Digite a pontuação na partida 1: 349\n",
            "Digite a pontuação na partida 2: 458\n",
            "Digite a pontuação na partida 3: 133\n",
            "Digite a pontuação na partida 4: 230\n",
            "Digite a pontuação na partida 5: 192\n",
            "Digite a pontuação na partida 6: 324\n",
            "Digite a pontuação na partida 7: 427\n",
            "Digite a pontuação na partida 8: 389\n",
            "Digite a pontuação na partida 9: 184\n",
            "Digite a pontuação na partida 10: 237\n",
            "\n",
            "Entrada das pontuações do jogador B:\n",
            "Digite a pontuação na partida 1: 436\n",
            "Digite a pontuação na partida 2: 448\n",
            "Digite a pontuação na partida 3: 294\n",
            "Digite a pontuação na partida 4: 421\n",
            "Digite a pontuação na partida 5: 209\n",
            "Digite a pontuação na partida 6: 487\n",
            "Digite a pontuação na partida 7: 484\n",
            "Digite a pontuação na partida 8: 252\n",
            "Digite a pontuação na partida 9: 396\n",
            "Digite a pontuação na partida 10: 374\n",
            "\n",
            "Pontuações dos jogadores:\n",
            "A: 349 458 133 230 192 324 427 389 184 237 \n",
            "B: 436 448 294 421 209 487 484 252 396 374 \n",
            "\n",
            "Pontuações finais dos jogadores (T160-60 / T160-80):\n",
            "A: 349 458 133 230 192 324 427 388 184 237 \n",
            "B: 436 448 294 421 209 487 484 252 396 370 \n",
            "\n",
            "Pontuações finais dos jogadores (T160-39 / T998-31):\n",
            "A: 349 458 133 230 192 324 427 388 184 388 \n",
            "B: 436 448 294 421 209 487 484 370 396 370 \n",
            "\n",
            "Diferenças entre as partidas (pontos): 87 10 161 191 17 163 57 18 212 18 \n",
            "\n",
            "Maior diferença entre todas as partidas: 212 pontos\n"
          ]
        }
      ]
    },
    {
      "cell_type": "code",
      "source": [
        "def imprimir(vec, nome=None):\n",
        "    if nome:\n",
        "        print(f\"{nome}:\", end=\" \")\n",
        "\n",
        "    for k in vec:\n",
        "        print(k, end= \" \")\n",
        "    print()\n",
        "\n",
        "v = [436, 448, 294, 421, 209, 487, 484, 370, 396, 370]\n",
        "print(v)\n",
        "imprimir(v, \"A\")"
      ],
      "metadata": {
        "colab": {
          "base_uri": "https://localhost:8080/"
        },
        "id": "cInsD4g7qj7A",
        "outputId": "df0d36e5-b63d-4475-d8dd-1262c4c86ec7"
      },
      "execution_count": null,
      "outputs": [
        {
          "output_type": "stream",
          "name": "stdout",
          "text": [
            "[436, 448, 294, 421, 209, 487, 484, 370, 396, 370]\n",
            "A: 436 448 294 421 209 487 484 370 396 370 \n"
          ]
        }
      ]
    },
    {
      "cell_type": "markdown",
      "source": [
        "## Implementação T160-60 / T160-80"
      ],
      "metadata": {
        "id": "t9hTLSKofdqP"
      }
    },
    {
      "cell_type": "code",
      "source": [
        "def preencher_pontuacoes(n: int) -> list[int]:\n",
        "    \"\"\"\n",
        "    Simula o preenchimento do vetor com as pontuações do jogador em cada partida,\n",
        "    permitindo que o usuário insira manualmente as pontuações durante a execução\n",
        "    do programa.\n",
        "    \"\"\"\n",
        "    # Inicializa uma lista para armazenar as pontuações\n",
        "    vec: list[int] = [0] * n\n",
        "\n",
        "    # Simula o preenchimento dos vetores com as pontuações dos jogadores A e B\n",
        "    for i in range(n): # 0,1,2,...,9\n",
        "        vec[i] = int(input(f\"Digite a pontuação na partida {i+1}: \"))\n",
        "\n",
        "    return vec\n",
        "\n",
        "def revisar_pontuacao(vec, pos, valor):\n",
        "    \"\"\"Anula a pontuação na posição especificada\"\"\"\n",
        "    vec[pos-1] = valor\n",
        "    return vec\n",
        "\n",
        "def diferenca_pontuacao(vec_a: list[int], vec_b: list[int]) -> list[int]:\n",
        "    \"\"\"\n",
        "    Esta função calcula as diferenças entre as pontuações dos jogadores A e B\n",
        "    nas respectivas partida.\n",
        "    \"\"\"\n",
        "    # Inicializa lista para armazenar as diferenças\n",
        "    n = len(vec_a)\n",
        "    vec_dif = [0] * n\n",
        "\n",
        "    # Calcula a diferença entre as pontuações e adicionar à lista\n",
        "    for i in range(n): # 0,1,2,...,9\n",
        "        vec_dif[i] = abs(vec_a[i] - vec_b[i])\n",
        "\n",
        "    return vec_dif\n",
        "\n",
        "def maior_diferenca(vec_a, vec_b):\n",
        "    \"\"\"\n",
        "    Esta função percorre todas as combinações de pontuações possíveis entre os\n",
        "    jogadores A e B e retorna a maior diferença absoluta entre elas.\n",
        "    \"\"\"\n",
        "    # Inicializa variável para armazenar a maior diferença\n",
        "    maior = 0\n",
        "\n",
        "    # Itera sobre todas as pontuações para encontrar a maior diferença\n",
        "    for pta in vec_a:\n",
        "        for ptb in vec_b: # pta3,ptb2, pta3,ptb2, ..., pta3,ptbn (combinações possiveis)\n",
        "            dif = abs(pta - ptb)\n",
        "            # dif = pta - ptb\n",
        "            # if dif < 0:\n",
        "            #     dif = -dif\n",
        "            if dif > maior:\n",
        "                maior = dif\n",
        "\n",
        "    return maior\n",
        "\n",
        "def imprimir(vec, nome=None):\n",
        "    if nome:\n",
        "        print(f\"{nome}:\", end=\" \")\n",
        "\n",
        "    for k in vec:\n",
        "        print(k, end= \" \")\n",
        "    print()\n",
        "\n",
        "def main() -> None:\n",
        "    # Preenchimento do vetor com as pontuações\n",
        "    print(\"Entrada das pontuações do jogador A:\")\n",
        "    vec_a = preencher_pontuacoes(10)\n",
        "\n",
        "    print(\"\\nEntrada das pontuações do jogador B:\")\n",
        "    vec_b = preencher_pontuacoes(10)\n",
        "\n",
        "    print(\"\\nPontuações dos jogadores:\")\n",
        "    imprimir(vec_a, \"A\")\n",
        "    imprimir(vec_b, \"B\")\n",
        "\n",
        "    # Revisão das pontuações\n",
        "    vec_a = revisar_pontuacao(vec_a, 10, 388)\n",
        "    vec_b = revisar_pontuacao(vec_b, 8, 370)\n",
        "\n",
        "    print(\"\\nPontuações finais dos jogadores:\")\n",
        "    imprimir(vec_a, \"A\")\n",
        "    imprimir(vec_b, \"B\")\n",
        "\n",
        "    # Diferença entre as respectivas partidas\n",
        "    vec_dif = diferenca_pontuacao(vec_a,vec_b)\n",
        "\n",
        "    print(\"\\nDiferenças entre as partidas (pontos):\", end=\" \")\n",
        "    imprimir(vec_dif)\n",
        "\n",
        "    # Diferença entre todas as combinações possíveis\n",
        "    dif = maior_diferenca(vec_a, vec_b)\n",
        "    print(f\"\\nMaior diferença entre todas as partidas: {dif} pontos\")\n",
        "\n",
        "if __name__ == \"__main__\":\n",
        "    main()"
      ],
      "metadata": {
        "colab": {
          "base_uri": "https://localhost:8080/"
        },
        "id": "sTQ7OkH4QbXw",
        "outputId": "744478d3-9f57-47fa-d9a7-b37524f8db05"
      },
      "execution_count": null,
      "outputs": [
        {
          "output_type": "stream",
          "name": "stdout",
          "text": [
            "Entrada das pontuações do jogador A:\n",
            "Digite a pontuação na partida 1: 349\n",
            "Digite a pontuação na partida 2: 458\n",
            "Digite a pontuação na partida 3: 133\n",
            "Digite a pontuação na partida 4: 230\n",
            "Digite a pontuação na partida 5: 192\n",
            "Digite a pontuação na partida 6: 324\n",
            "Digite a pontuação na partida 7: 427\n",
            "Digite a pontuação na partida 8: 389\n",
            "Digite a pontuação na partida 9: 184\n",
            "Digite a pontuação na partida 10: 237\n",
            "\n",
            "Entrada das pontuações do jogador B:\n",
            "Digite a pontuação na partida 1: 436\n",
            "Digite a pontuação na partida 2: 448\n",
            "Digite a pontuação na partida 3: 294\n",
            "Digite a pontuação na partida 4: 421\n",
            "Digite a pontuação na partida 5: 209\n",
            "Digite a pontuação na partida 6: 487\n",
            "Digite a pontuação na partida 7: 484\n",
            "Digite a pontuação na partida 8: 252\n",
            "Digite a pontuação na partida 9: 396\n",
            "Digite a pontuação na partida 10: 374\n",
            "\n",
            "Pontuações dos jogadores:\n",
            "A: 349 458 133 230 192 324 427 389 184 237 \n",
            "B: 436 448 294 421 209 487 484 252 396 374 \n",
            "\n",
            "Pontuações finais dos jogadores:\n",
            "A: 349 458 133 230 192 324 427 389 184 388 \n",
            "B: 436 448 294 421 209 487 484 370 396 374 \n",
            "\n",
            "Diferenças entre as partidas (pontos): 87 10 161 191 17 163 57 19 212 14 \n",
            "\n",
            "Maior diferença entre todas as partidas: 354 pontos\n"
          ]
        }
      ]
    }
  ]
}

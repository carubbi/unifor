{
  "nbformat": 4,
  "nbformat_minor": 0,
  "metadata": {
    "colab": {
      "provenance": []
    },
    "kernelspec": {
      "name": "python3",
      "display_name": "Python 3"
    },
    "language_info": {
      "name": "python"
    }
  },
  "cells": [
    {
      "cell_type": "markdown",
      "source": [
        "<img src=\"https://drive.google.com/uc?id=1SOzRTjUt7cuBJpSqoK90fcAiKBrnpUJo\" width=\"400\">\n",
        "\n",
        "**Data:** preencha com a data de envio <br>\n",
        "**Aluno(a):** preencha com seus dados <br>\n",
        "**Matrícula:** preencha com seus dados <br>\n",
        "**Turma**: preencha com seus dados <br>"
      ],
      "metadata": {
        "id": "02Dckeirosf4"
      }
    },
    {
      "cell_type": "markdown",
      "source": [
        "# **Instruções para resolução da prova**"
      ],
      "metadata": {
        "id": "N2uKR4xqqhFP"
      }
    },
    {
      "cell_type": "markdown",
      "source": [
        "1. A duração da prova é de 1:40h;\n",
        "2. A tolerância de entrada é de 30 min após o início da prova. Se um aluno terminar a prova em menos de 30min, deverá aguardar em sala antes de entregar a prova e sair de sala;\n",
        "3. A prova é sem consulta a professores ou a qualquer tipo de material. A interpretação dos enunciados faz parte da prova;\n",
        "4. Não é permitido o uso de celular ou quaisquer dispositivos de comunicação como smartwatch e similares. Estes dispositivos devem estar desligados e fora do alcance durante a prova. A utilização destes dispositivos, sob quaisquer circunstâncias, acarretará na anulação da prova;\n",
        "5. A prova será desenvolvida apenas no ambiente do Google Colab e logado com o e-mail institucional do aluno. A violação desta regra acarretará na anulação da prova;\n",
        "6. A prova será validada apenas se o aluno estiver presente em sala de aula. A alteração do envio no AVA após a aplicação da prova, acarretará na anulação da mesma;\n",
        "7. No início do seu notebbok, preencha a data, seu nome completo, sua matrícula e sua turma;\n",
        "8. **Ao terminar a prova, chame o professor para autorizar individualmente o envio do arquivo através do AVA. O AVA estará liberado para todos os alunos apenas 10 minutos antes do término da prova**\n",
        "9. O nome do arquivo deve ser AV2 seguido por nome e matrícula. Exemplo: AV2-MARIA-1012983.ipynb;\n",
        "10. O notebook deverá ser enviado através do AVA até o final do horário estipulado para a realização da prova.\n",
        "11. Não será considerada a prova enviada após o limite horário estabelecido ou entrega através do AVA;\n",
        "12. A lista de entrega da AV2 deverá ser assinada após o envio através do AVA."
      ],
      "metadata": {
        "id": "T4w8XE8TKBz-"
      }
    },
    {
      "cell_type": "markdown",
      "source": [
        "# Questão 01 (4 pontos)"
      ],
      "metadata": {
        "id": "nUVcPvg5MSCi"
      }
    },
    {
      "cell_type": "markdown",
      "source": [
        "O rendimento acadêmico da UNIFOR é acompanhado por meio de três registros de Avaliação (AV1, AV2 e AV3), resultantes da consolidação do desempenho nas atividades avaliativas aplicadas em cada período e aferido por Nota Final (NF) correspondente à média aritmética entre a nota resultante da média de AV1 e AV2 e a nota de AV3, atribuídas numa escala de 0,0 a 10,0, conforme a seguinte fórmula:\n",
        "\n",
        "$$NF = [(AV1 + AV2)/2 + AV3]/2$$\n",
        "\n",
        "Estará aprovado por rendimento acadêmico, o aluno que obtiver Nota Final ($NF$) igual ou superior a $5,0$ (cinco vírgula zero), desde que a nota resultante da média entre $AV1$ e $AV2$ seja igual ou superior a $4,0$ (quatro vírgula zero) e a nota de $AV3$ seja igual ou superior a $4,0$ (quatro vírgula zero)."
      ],
      "metadata": {
        "id": "Hzvk1nBcMWTT"
      }
    },
    {
      "cell_type": "markdown",
      "source": [
        "## Entradas obrigatórias"
      ],
      "metadata": {
        "id": "UNbGrLhywIua"
      }
    },
    {
      "cell_type": "markdown",
      "source": [
        "**Entrada 1:** AV1: 8.5, AV2: 7.0, AV3: 9.0 (entrada solicitada) <br>\n",
        "**Entrada 2:** AV1: 2.5, AV2: 5.5, AV3: 5.0 (entrada solicitada) <br>\n",
        "**Entrada 3:** AV1: 9.5, AV2: 8.5, AV3: 3.0 (entrada solicitada) <br>\n",
        "**Entrada 4:** AV1: 1.0, AV2: 6.0 (não solicita a nota da AV3) <br>\n"
      ],
      "metadata": {
        "id": "rQdbMsJNwKj_"
      }
    },
    {
      "cell_type": "markdown",
      "source": [
        "## Saídas de exemplo"
      ],
      "metadata": {
        "id": "7Ypp8AI01I_0"
      }
    },
    {
      "cell_type": "markdown",
      "source": [
        "**Saída 1**: Nota: 8.4 Aprovado! <br>\n",
        "**Saída 2**: Nota: 4.5 Reprovado <br>\n",
        "**Saída 3**: Nota: 6.0 Reprovado <br>\n",
        "**Saída 4**: Nota: 3.5 Reprovado <br>"
      ],
      "metadata": {
        "id": "UvytehlI1MUA"
      }
    },
    {
      "cell_type": "markdown",
      "source": [
        "## Resposta do aluno"
      ],
      "metadata": {
        "id": "3fm_J1ApYpLM"
      }
    },
    {
      "cell_type": "code",
      "source": [
        "def calcular_nota_final(av1, av2, av3):\n",
        "    \"\"\"\n",
        "    Calcula a nota final de acordo com as av1, av2 e av3.\n",
        "    \"\"\"\n",
        "    nfinal = ((av1 + av2) / 2 + av3) / 2\n",
        "    return nfinal\n",
        "\n",
        "def media_av1_av2(av1, av2):\n",
        "    \"\"\"\n",
        "    Calcula a média parcial de acordo com as av1 e av2.\n",
        "    \"\"\"\n",
        "    med = (av1 + av2) / 2\n",
        "    return med\n",
        "\n",
        "def situacao_aluno(av1, av2):\n",
        "    \"\"\"\n",
        "    Exibe a nota final e a situação do aluno.\n",
        "    \"\"\"\n",
        "    media = media_av1_av2(av1, av2)\n",
        "    if media >= 4.0:\n",
        "        while True:\n",
        "            try:\n",
        "                av3 = float(input(\"Digite a nota da AV3: \"))\n",
        "                break\n",
        "            except ValueError as e:\n",
        "                # print(e)\n",
        "                print(\"Digite um valor válido!\\n\")\n",
        "        nf = calcular_nota_final(av1, av2, av3)\n",
        "        if av3 >= 4 and nf >= 5.0:\n",
        "            print(f\"Nota: {nf:.1f} Aprovado!\\n\")\n",
        "        else:\n",
        "            print(f\"Nota: {nf:.1f} Reprovado\\n\")\n",
        "    else:\n",
        "        print(\"Nota da AV3 não informada!\")\n",
        "        print(f\"Nota {media:.1f} Reprovado\\n\")\n",
        "\n",
        "def main():\n",
        "\n",
        "    # Caso 1\n",
        "    av1 = 8.5\n",
        "    av2 = 7.0\n",
        "    situacao_aluno(av1, av2)\n",
        "\n",
        "    # Caso 2\n",
        "    av1 = 2.5\n",
        "    av2 = 5.5\n",
        "    situacao_aluno(av1, av2)\n",
        "\n",
        "    # Caso 3\n",
        "    av1 = 9.5\n",
        "    av2 = 8.5\n",
        "    situacao_aluno(av1, av2)\n",
        "\n",
        "    # Caso 4\n",
        "    av1 = 1.0\n",
        "    av2 = 6.0\n",
        "    situacao_aluno(av1, av2)\n",
        "\n",
        "if __name__ == \"__main__\":\n",
        "    main()"
      ],
      "metadata": {
        "id": "yLYgZhLNKA4C",
        "colab": {
          "base_uri": "https://localhost:8080/"
        },
        "outputId": "16fe1c4f-cc22-4dee-9a4d-9ebad99093a6"
      },
      "execution_count": 15,
      "outputs": [
        {
          "output_type": "stream",
          "name": "stdout",
          "text": [
            "Digite a nota da AV3: nove\n",
            "Digite um valor válido!\n",
            "\n",
            "Digite a nota da AV3: 9\n",
            "Nota: 8.4 Aprovado!\n",
            "\n",
            "Digite a nota da AV3: 5\n",
            "Nota: 4.5 Reprovado\n",
            "\n",
            "Digite a nota da AV3: 3\n",
            "Nota: 6.0 Reprovado\n",
            "\n",
            "Nota da AV3 não informada!\n",
            "Nota 3.5 Reprovado\n",
            "\n"
          ]
        }
      ]
    },
    {
      "cell_type": "markdown",
      "source": [
        "# Questão 02 (6 pontos)"
      ],
      "metadata": {
        "id": "aZ4iy-kOmRbl"
      }
    },
    {
      "cell_type": "markdown",
      "source": [
        "Você foi contratado para desenvolver um programa que ajude uma cafeteria a gerenciar as vendas de café de acordo com o orçamento dos clientes. Para isso, você deve criar funções que realizem as seguintes tarefas:\n",
        "\n",
        "1. Solicitar e validar o orçamento do cliente.\n",
        "2. Verificar o que o cliente pode comprar com seu orçamento e calcular o troco.\n",
        "3. Armazenar os trocos de vários clientes.\n",
        "4. Encontrar o maior troco entre os clientes."
      ],
      "metadata": {
        "id": "Xhv1JLAP93N6"
      }
    },
    {
      "cell_type": "markdown",
      "source": [
        "    Qual é o seu orçamento? 8\n",
        "    Qual é o seu orçamento? 3\n",
        "    Qual é o seu orçamento? 6\n",
        "    Qual é o seu orçamento? 10\n",
        "    Qual é o seu orçamento? 5"
      ],
      "metadata": {
        "id": "5r9BojXtbpSq"
      }
    },
    {
      "cell_type": "markdown",
      "source": [
        "    Você pode comprar o café grande\n",
        "    Seu troco é 2. Volte sempre!\n",
        "    Você pode comprar o café pequeno\n",
        "    Seu troco é 1. Volte sempre!\n",
        "    Você pode comprar o café grande\n",
        "    Sem troco.  Volte sempre!\n",
        "    Você pode comprar o café grande\n",
        "    Seu troco é 4.  Volte sempre!\n",
        "    Você pode comprar o café médio\n",
        "    Sem troco.  Volte sempre!\n",
        "    Trocos dos clientes: [2, 1, 0, 4, 0]\n",
        "    O maior troco é: 4"
      ],
      "metadata": {
        "id": "jrQcMlqgbuiz"
      }
    },
    {
      "cell_type": "code",
      "source": [
        "def obter_orcamento_cliente() -> int:\n",
        "    \"\"\"\n",
        "    Solicita ao cliente o orçamento e converte-o para um número inteiro.\n",
        "    Lida com entrada inválida.\n",
        "    \"\"\"\n",
        "    while True:\n",
        "        try:\n",
        "            return int(input('Qual é o seu orçamento? '))\n",
        "        except ValueError as e:\n",
        "            # print(e)\n",
        "            print(\"Digite um valor válido!\\n\")\n",
        "            continue\n",
        "\n",
        "def verificar_orcamento(orcamento_cliente: int, pequeno: int, medio: int, grande: int) -> int:\n",
        "    \"\"\"\n",
        "    Verifica o orçamento do cliente e imprime o que ele pode comprar.\n",
        "    Retorna o troco se houver, caso contrário, retorna 0.\n",
        "    \"\"\"\n",
        "    troco = 0\n",
        "    msg = 'Sem troco. Volte sempre!\\n'\n",
        "\n",
        "    if orcamento_cliente > 0:\n",
        "        if orcamento_cliente >= grande:\n",
        "            print('Você pode comprar o café grande')\n",
        "            if orcamento_cliente == grande:\n",
        "                print(msg)\n",
        "            else:\n",
        "                troco = orcamento_cliente - grande\n",
        "                print(f'Seu troco é {troco}. Volte sempre!\\n')\n",
        "\n",
        "        elif orcamento_cliente == medio:\n",
        "            print('Você pode comprar o café médio')\n",
        "\n",
        "        elif orcamento_cliente >= pequeno:\n",
        "            print('Você pode comprar o café pequeno')\n",
        "            if orcamento_cliente == pequeno:\n",
        "                print(msg)\n",
        "            else:\n",
        "                troco = orcamento_cliente - pequeno\n",
        "                print(f'Seu troco é {troco}. Volte sempre!\\n')\n",
        "    else:\n",
        "        print('Não vendemos fiado!')\n",
        "\n",
        "    return troco\n",
        "\n",
        "def armazenar_trocos(nclientes: int, p: int, m: int, g: int) -> list:\n",
        "    \"\"\"\n",
        "    Armazena os trocos de um número especificado de clientes.\n",
        "    \"\"\"\n",
        "    trocos = [0] * nclientes\n",
        "    for i in range(nclientes):\n",
        "        orcamento = obter_orcamento_cliente()\n",
        "        trocos[i] = verificar_orcamento(orcamento, p, m, g)\n",
        "\n",
        "    return trocos\n",
        "\n",
        "def maximo(vec: list) -> int:\n",
        "    \"\"\"\n",
        "    Retorna o maior valor de uma lista.\n",
        "    \"\"\"\n",
        "    maior: int = vec[0]\n",
        "    n = len(vec)\n",
        "    for i in range(1,n):\n",
        "        if vec[i] > maior:\n",
        "            maior = vec[i]\n",
        "\n",
        "    return maior\n",
        "\n",
        "def main() -> None:\n",
        "    \"\"\"\n",
        "    Função principal para executar o programa.\n",
        "    \"\"\"\n",
        "    PEQUENO = 2\n",
        "    MEDIO = 5\n",
        "    GRANDE = 6\n",
        "    NUMERO_DE_CLIENTES = 5\n",
        "\n",
        "    trocos = armazenar_trocos(NUMERO_DE_CLIENTES, PEQUENO, MEDIO, GRANDE)\n",
        "    print('\\nTrocos dos clientes:', trocos)\n",
        "    maior_troco = maximo(trocos)\n",
        "    print('\\nO maior troco é:', maior_troco)\n",
        "\n",
        "if __name__ == \"__main__\":\n",
        "    main()"
      ],
      "metadata": {
        "id": "W56QC1W5z6Pe",
        "colab": {
          "base_uri": "https://localhost:8080/"
        },
        "outputId": "1a890ed6-a3e0-4c66-ee44-6e536f7df280"
      },
      "execution_count": 20,
      "outputs": [
        {
          "output_type": "stream",
          "name": "stdout",
          "text": [
            "Qual é o seu orçamento? 8\n",
            "Você pode comprar o café grande\n",
            "Seu troco é 2. Volte sempre!\n",
            "\n",
            "Qual é o seu orçamento? 3\n",
            "Você pode comprar o café pequeno\n",
            "Seu troco é 1. Volte sempre!\n",
            "\n",
            "Qual é o seu orçamento? 6\n",
            "Você pode comprar o café grande\n",
            "Sem troco. Volte sempre!\n",
            "\n",
            "Qual é o seu orçamento? 10\n",
            "Você pode comprar o café grande\n",
            "Seu troco é 4. Volte sempre!\n",
            "\n",
            "Qual é o seu orçamento? 5\n",
            "Você pode comprar o café médio\n",
            "\n",
            "Trocos dos clientes: [2, 1, 0, 4, 0]\n",
            "\n",
            "O maior troco é: 4\n"
          ]
        }
      ]
    }
  ]
}